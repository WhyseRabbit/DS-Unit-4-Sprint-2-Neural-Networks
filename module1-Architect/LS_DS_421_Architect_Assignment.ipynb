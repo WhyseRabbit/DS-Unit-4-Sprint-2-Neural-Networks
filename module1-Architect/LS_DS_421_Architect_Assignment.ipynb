{
 "cells": [
  {
   "cell_type": "markdown",
   "metadata": {
    "colab_type": "text",
    "id": "ObyHCH8HvHSf"
   },
   "source": [
    "<img align=\"left\" src=\"https://lever-client-logos.s3.amazonaws.com/864372b1-534c-480e-acd5-9711f850815c-1524247202159.png\" width=200>\n",
    "<br></br>\n",
    "<br></br>\n",
    "\n",
    "# *Data Science Unit 4 Sprint 2 Assignment 1*\n",
    "\n",
    "Use TensorFlow Keras & a sample of the [Quickdraw dataset](https://github.com/googlecreativelab/quickdraw-dataset) to build a sketch classification model. The dataset has been sampled to only 10 classes and 10000 observations per class. Please build a baseline classification model then run a few experiments with different optimizers and learning rates. \n",
    "\n",
    "*Don't forgot to switch to GPU on Colab!*"
   ]
  },
  {
   "cell_type": "markdown",
   "metadata": {
    "colab_type": "text",
    "id": "s-Tc3ovEyQ9b"
   },
   "source": [
    "## Load Your Data"
   ]
  },
  {
   "cell_type": "code",
   "execution_count": 1,
   "metadata": {
    "colab": {},
    "colab_type": "code",
    "id": "CkU0pAYCvU8o"
   },
   "outputs": [
    {
     "name": "stdout",
     "output_type": "stream",
     "text": [
      "(100000, 784)\n",
      "(100000,)\n"
     ]
    }
   ],
   "source": [
    "import numpy as np\n",
    "import tensorflow as tf \n",
    "\n",
    "data = np.load(\"../quickdraw10.npz\")\n",
    "X = data['arr_0']\n",
    "y = data['arr_1']\n",
    "\n",
    "print(X.shape)\n",
    "print(y.shape)"
   ]
  },
  {
   "cell_type": "code",
   "execution_count": 2,
   "metadata": {
    "colab": {},
    "colab_type": "code",
    "id": "c8qsDqdqvHDd"
   },
   "outputs": [],
   "source": [
    "class_names = ['apple',\n",
    " 'anvil',\n",
    " 'airplane',\n",
    " 'banana',\n",
    " 'The Eiffel Tower',\n",
    " 'The Mona Lisa',\n",
    " 'The Great Wall of China',\n",
    " 'alarm clock',\n",
    " 'ant',\n",
    " 'asparagus']"
   ]
  },
  {
   "cell_type": "code",
   "execution_count": 3,
   "metadata": {
    "colab": {},
    "colab_type": "code",
    "id": "Owbm1EbxvA5A"
   },
   "outputs": [
    {
     "data": {
      "image/png": "[encoded data removed]",
      "text/plain": [
       "<Figure size 720x360 with 10 Axes>"
      ]
     },
     "metadata": {},
     "output_type": "display_data"
    }
   ],
   "source": [
    "import matplotlib.pyplot as plt\n",
    "plt.figure(figsize=(10,5))\n",
    "start = 0\n",
    "\n",
    "for num, name in enumerate(class_names):\n",
    "    plt.subplot(2,5, num+1)\n",
    "    plt.xticks([])\n",
    "    plt.yticks([])\n",
    "    plt.grid(False)\n",
    "    plt.imshow(X[start].reshape(28,28), cmap=plt.cm.binary)\n",
    "    plt.xlabel(name)\n",
    "    start += 10000\n",
    "plt.show()"
   ]
  },
  {
   "cell_type": "code",
   "execution_count": 4,
   "metadata": {
    "colab": {},
    "colab_type": "code",
    "id": "c97_M1WNvTNY"
   },
   "outputs": [],
   "source": [
    "# Need this line to randomly shuffle both the X & y at the same time.\n",
    "\n",
    "from sklearn.utils import shuffle\n",
    "X, y = shuffle(X, y)"
   ]
  },
  {
   "cell_type": "markdown",
   "metadata": {
    "colab_type": "text",
    "id": "jb70CbLVyK65"
   },
   "source": [
    "## Build Your Baseline Model\n",
    "Some Hints:\n",
    "\n",
    "\n",
    "*  Model should have 784 input values (like mnist)\n",
    "*  Use `sparse_categorical_crossentropy` as your loss function.\n",
    "* You need 10 neurons in your last layer for output\n",
    "* You can add as many hidden layers with as many neurons in them as you like. \n",
    "* Limit your model epochs to 30 each time you fit.\n",
    "* You can use the `validation_split` command to automatically create a training / validation dataset.  Specify a percentage such as .2 in your fit statement. \n",
    "\n"
   ]
  },
  {
   "cell_type": "code",
   "execution_count": 5,
   "metadata": {
    "colab": {},
    "colab_type": "code",
    "id": "zHWblzsMyNkU"
   },
   "outputs": [
    {
     "name": "stdout",
     "output_type": "stream",
     "text": [
      "Model: \"sequential\"\n",
      "_________________________________________________________________\n",
      "Layer (type)                 Output Shape              Param #   \n",
      "=================================================================\n",
      "Input_Layer (Dense)          (None, 128)               100480    \n",
      "_________________________________________________________________\n",
      "dense (Dense)                (None, 128)               16512     \n",
      "_________________________________________________________________\n",
      "dense_1 (Dense)              (None, 64)                8256      \n",
      "_________________________________________________________________\n",
      "dense_2 (Dense)              (None, 10)                650       \n",
      "=================================================================\n",
      "Total params: 125,898\n",
      "Trainable params: 125,898\n",
      "Non-trainable params: 0\n",
      "_________________________________________________________________\n"
     ]
    }
   ],
   "source": [
    "import os\n",
    "import datetime\n",
    "from tensorflow import keras\n",
    "from tensorflow.keras.models import Sequential\n",
    "from tensorflow.keras.layers import Dense\n",
    "\n",
    "model = Sequential()\n",
    "logdir = os.path.join(\"logs\", datetime.datetime.now().strftime(\"%Y%m%d-%H%M%S\"))\n",
    "tensorboard_callback = tf.keras.callbacks.TensorBoard(logdir, histogram_freq=1)\n",
    "\n",
    "# Hidden Layer 1\n",
    "model.add(Dense(units=128, input_dim=784, activation=\"elu\", name=\"Input_Layer\"))\n",
    "\n",
    "# Hidden Layer 2\n",
    "model.add(Dense(units=128, input_dim=784, activation=\"elu\"))\n",
    "\n",
    "# Hidden Layer 3\n",
    "model.add(Dense(units=64, input_dim=784, activation=\"elu\"))\n",
    "\n",
    "# Hidden Layer 4\n",
    "model.add(Dense(units=10, input_dim=784, activation=\"softplus\"))\n",
    "\n",
    "model.summary()"
   ]
  },
  {
   "cell_type": "code",
   "execution_count": 6,
   "metadata": {},
   "outputs": [],
   "source": [
    "from tensorflow.keras.optimizers import Adam\n",
    "\n",
    "adam = Adam()\n",
    "\n",
    "model.compile(optimizer=adam,\n",
    "              loss=\"binary_crossentropy\",\n",
    "              metrics=[\"accuracy\"]\n",
    ")"
   ]
  },
  {
   "cell_type": "code",
   "execution_count": 7,
   "metadata": {},
   "outputs": [
    {
     "name": "stdout",
     "output_type": "stream",
     "text": [
      "Epoch 1/30\n",
      "1250/1250 [==============================] - 38s 28ms/step - loss: -39.9350 - accuracy: 0.1016 - val_loss: -41.4276 - val_accuracy: 0.0977\n",
      "Epoch 2/30\n",
      "1250/1250 [==============================] - 26s 21ms/step - loss: -40.9894 - accuracy: 0.1011 - val_loss: -41.4276 - val_accuracy: 0.0977\n",
      "Epoch 3/30\n",
      "1250/1250 [==============================] - 28s 22ms/step - loss: -41.0203 - accuracy: 0.1008 - val_loss: -41.4276 - val_accuracy: 0.0977\n",
      "Epoch 4/30\n",
      "1250/1250 [==============================] - 27s 21ms/step - loss: -41.1495 - accuracy: 0.0992 - val_loss: -41.4276 - val_accuracy: 0.0977\n",
      "Epoch 5/30\n",
      "1250/1250 [==============================] - 15s 12ms/step - loss: -41.0799 - accuracy: 0.1002 - val_loss: -41.4276 - val_accuracy: 0.0977\n",
      "Epoch 6/30\n",
      "1250/1250 [==============================] - 20s 16ms/step - loss: -41.0877 - accuracy: 0.1015 - val_loss: -41.4276 - val_accuracy: 0.0977\n",
      "Epoch 7/30\n",
      "1250/1250 [==============================] - 17s 14ms/step - loss: -41.0501 - accuracy: 0.1021 - val_loss: -41.4276 - val_accuracy: 0.0977\n",
      "Epoch 8/30\n",
      "1250/1250 [==============================] - 16s 13ms/step - loss: -40.6751 - accuracy: 0.1022 - val_loss: -41.4276 - val_accuracy: 0.0977\n",
      "Epoch 9/30\n",
      "1250/1250 [==============================] - 16s 13ms/step - loss: -40.9161 - accuracy: 0.1010 - val_loss: -41.4276 - val_accuracy: 0.0977\n",
      "Epoch 10/30\n",
      "1250/1250 [==============================] - 15s 12ms/step - loss: -40.7569 - accuracy: 0.1031 - val_loss: -41.4276 - val_accuracy: 0.0977\n",
      "Epoch 11/30\n",
      "1250/1250 [==============================] - 17s 13ms/step - loss: -40.9609 - accuracy: 0.1000 - val_loss: -41.4276 - val_accuracy: 0.0977\n",
      "Epoch 12/30\n",
      "1250/1250 [==============================] - 18s 14ms/step - loss: -41.1913 - accuracy: 0.1025 - val_loss: -41.4276 - val_accuracy: 0.0977\n",
      "Epoch 13/30\n",
      "1250/1250 [==============================] - 17s 13ms/step - loss: -41.1608 - accuracy: 0.1025 - val_loss: -41.4276 - val_accuracy: 0.0977\n",
      "Epoch 14/30\n",
      "1250/1250 [==============================] - 14s 11ms/step - loss: -41.0763 - accuracy: 0.1002 - val_loss: -41.4276 - val_accuracy: 0.0977\n",
      "Epoch 15/30\n",
      "1250/1250 [==============================] - 16s 13ms/step - loss: -41.4081 - accuracy: 0.0995 - val_loss: -41.4276 - val_accuracy: 0.0977\n",
      "Epoch 16/30\n",
      "1250/1250 [==============================] - 25s 20ms/step - loss: -41.0645 - accuracy: 0.1016 - val_loss: -41.4276 - val_accuracy: 0.0977\n",
      "Epoch 17/30\n",
      "1250/1250 [==============================] - 18s 15ms/step - loss: -41.0035 - accuracy: 0.1012 - val_loss: -41.4276 - val_accuracy: 0.0977\n",
      "Epoch 18/30\n",
      "1250/1250 [==============================] - 16s 13ms/step - loss: -40.9687 - accuracy: 0.1042 - val_loss: -41.4276 - val_accuracy: 0.0977\n",
      "Epoch 19/30\n",
      "1250/1250 [==============================] - 16s 13ms/step - loss: -40.7613 - accuracy: 0.1019 - val_loss: -41.4276 - val_accuracy: 0.0977\n",
      "Epoch 20/30\n",
      "1250/1250 [==============================] - 16s 13ms/step - loss: -41.1063 - accuracy: 0.1017 - val_loss: -41.4276 - val_accuracy: 0.0977\n",
      "Epoch 21/30\n",
      "1250/1250 [==============================] - 17s 14ms/step - loss: -40.9342 - accuracy: 0.0981 - val_loss: -41.4276 - val_accuracy: 0.0977\n",
      "Epoch 22/30\n",
      "1250/1250 [==============================] - 15s 12ms/step - loss: -40.8523 - accuracy: 0.1023 - val_loss: -41.4276 - val_accuracy: 0.0977\n",
      "Epoch 23/30\n",
      "1250/1250 [==============================] - 15s 12ms/step - loss: -41.1693 - accuracy: 0.1025 - val_loss: -41.4276 - val_accuracy: 0.0977\n",
      "Epoch 24/30\n",
      "1250/1250 [==============================] - 16s 13ms/step - loss: -40.9975 - accuracy: 0.0995 - val_loss: -41.4276 - val_accuracy: 0.0977\n",
      "Epoch 25/30\n",
      "1250/1250 [==============================] - 16s 12ms/step - loss: -41.1425 - accuracy: 0.1006 - val_loss: -41.4276 - val_accuracy: 0.0977\n",
      "Epoch 26/30\n",
      "1250/1250 [==============================] - 15s 12ms/step - loss: -41.1427 - accuracy: 0.0999 - val_loss: -41.4276 - val_accuracy: 0.0977\n",
      "Epoch 27/30\n",
      "1250/1250 [==============================] - 17s 13ms/step - loss: -40.9433 - accuracy: 0.1026 - val_loss: -41.4276 - val_accuracy: 0.0977\n",
      "Epoch 28/30\n",
      "1250/1250 [==============================] - 16s 12ms/step - loss: -41.0266 - accuracy: 0.1012 - val_loss: -41.4276 - val_accuracy: 0.0977\n",
      "Epoch 29/30\n",
      "1250/1250 [==============================] - 16s 12ms/step - loss: -41.1235 - accuracy: 0.1027 - val_loss: -41.4276 - val_accuracy: 0.0977\n",
      "Epoch 30/30\n",
      "1250/1250 [==============================] - 16s 13ms/step - loss: -40.9327 - accuracy: 0.1010 - val_loss: -41.4276 - val_accuracy: 0.0977\n"
     ]
    }
   ],
   "source": [
    "baseline = model.fit(X, y, epochs=30,\n",
    "                     batch_size=64,\n",
    "                     validation_split=0.2,\n",
    "                     callbacks=[tensorboard_callback]\n",
    ")"
   ]
  },
  {
   "cell_type": "code",
   "execution_count": 8,
   "metadata": {},
   "outputs": [
    {
     "name": "stdout",
     "output_type": "stream",
     "text": [
      "Model: \"sequential_1\"\n",
      "_________________________________________________________________\n",
      "Layer (type)                 Output Shape              Param #   \n",
      "=================================================================\n",
      "Input_Layer (Dense)          (None, 128)               100480    \n",
      "_________________________________________________________________\n",
      "dense_3 (Dense)              (None, 128)               16512     \n",
      "_________________________________________________________________\n",
      "dense_4 (Dense)              (None, 64)                8256      \n",
      "_________________________________________________________________\n",
      "dense_5 (Dense)              (None, 10)                650       \n",
      "=================================================================\n",
      "Total params: 125,898\n",
      "Trainable params: 125,898\n",
      "Non-trainable params: 0\n",
      "_________________________________________________________________\n"
     ]
    }
   ],
   "source": [
    "model2 = Sequential()\n",
    "logdir = os.path.join(\"logs\", datetime.datetime.now().strftime(\"%Y%m%d-%H%M%S\"))\n",
    "tensorboard_callback = tf.keras.callbacks.TensorBoard(logdir, histogram_freq=1)\n",
    "\n",
    "# Hidden Layer 1\n",
    "model2.add(Dense(units=128, input_dim=784, activation=\"relu\", name=\"Input_Layer\"))\n",
    "\n",
    "# Hidden Layer 2\n",
    "model2.add(Dense(units=128, input_dim=784, activation=\"relu\"))\n",
    "\n",
    "# Hidden Layer 3\n",
    "model2.add(Dense(units=64, input_dim=784, activation=\"relu\"))\n",
    "\n",
    "# Hidden Layer 4\n",
    "model2.add(Dense(units=10, input_dim=784, activation=\"softmax\"))\n",
    "\n",
    "model2.summary()"
   ]
  },
  {
   "cell_type": "code",
   "execution_count": 9,
   "metadata": {},
   "outputs": [
    {
     "name": "stdout",
     "output_type": "stream",
     "text": [
      "Epoch 1/30\n",
      "625/625 [==============================] - 13s 18ms/step - loss: 7.0241 - accuracy: 0.4231 - val_loss: 1.3962 - val_accuracy: 0.5718\n",
      "Epoch 2/30\n",
      "625/625 [==============================] - 10s 16ms/step - loss: 1.2896 - accuracy: 0.6004 - val_loss: 1.1223 - val_accuracy: 0.6658\n",
      "Epoch 3/30\n",
      "625/625 [==============================] - 9s 15ms/step - loss: 1.0150 - accuracy: 0.7016 - val_loss: 0.9603 - val_accuracy: 0.7298\n",
      "Epoch 4/30\n",
      "625/625 [==============================] - 10s 15ms/step - loss: 0.8633 - accuracy: 0.7444 - val_loss: 0.8503 - val_accuracy: 0.7533\n",
      "Epoch 5/30\n",
      "625/625 [==============================] - 9s 14ms/step - loss: 0.7402 - accuracy: 0.7763 - val_loss: 0.7760 - val_accuracy: 0.7728\n",
      "Epoch 6/30\n",
      "625/625 [==============================] - 9s 14ms/step - loss: 0.6509 - accuracy: 0.8004 - val_loss: 0.7102 - val_accuracy: 0.7936\n",
      "Epoch 7/30\n",
      "625/625 [==============================] - 9s 14ms/step - loss: 0.5919 - accuracy: 0.8149 - val_loss: 0.6867 - val_accuracy: 0.8011\n",
      "Epoch 8/30\n",
      "625/625 [==============================] - 9s 14ms/step - loss: 0.5370 - accuracy: 0.8305 - val_loss: 0.6569 - val_accuracy: 0.8117\n",
      "Epoch 9/30\n",
      "625/625 [==============================] - 9s 14ms/step - loss: 0.5015 - accuracy: 0.8397 - val_loss: 0.6582 - val_accuracy: 0.8051\n",
      "Epoch 10/30\n",
      "625/625 [==============================] - 10s 15ms/step - loss: 0.4755 - accuracy: 0.8490 - val_loss: 0.6237 - val_accuracy: 0.8194\n",
      "Epoch 11/30\n",
      "625/625 [==============================] - 9s 14ms/step - loss: 0.4399 - accuracy: 0.8592 - val_loss: 0.6300 - val_accuracy: 0.8230\n",
      "Epoch 12/30\n",
      "625/625 [==============================] - 10s 16ms/step - loss: 0.4186 - accuracy: 0.8665 - val_loss: 0.6244 - val_accuracy: 0.8291\n",
      "Epoch 13/30\n",
      "625/625 [==============================] - 10s 16ms/step - loss: 0.3949 - accuracy: 0.8732 - val_loss: 0.6165 - val_accuracy: 0.8291\n",
      "Epoch 14/30\n",
      "625/625 [==============================] - 9s 15ms/step - loss: 0.3897 - accuracy: 0.8743 - val_loss: 0.6441 - val_accuracy: 0.8300\n",
      "Epoch 15/30\n",
      "625/625 [==============================] - 9s 15ms/step - loss: 0.3682 - accuracy: 0.8818 - val_loss: 0.6311 - val_accuracy: 0.8325\n",
      "Epoch 16/30\n",
      "625/625 [==============================] - 11s 18ms/step - loss: 0.3481 - accuracy: 0.8880 - val_loss: 0.6398 - val_accuracy: 0.8312\n",
      "Epoch 17/30\n",
      "625/625 [==============================] - 10s 16ms/step - loss: 0.3316 - accuracy: 0.8912 - val_loss: 0.6552 - val_accuracy: 0.8332\n",
      "Epoch 18/30\n",
      "625/625 [==============================] - 9s 15ms/step - loss: 0.3199 - accuracy: 0.8944 - val_loss: 0.6621 - val_accuracy: 0.8325\n",
      "Epoch 19/30\n",
      "625/625 [==============================] - 9s 15ms/step - loss: 0.3064 - accuracy: 0.8993 - val_loss: 0.6709 - val_accuracy: 0.8329\n",
      "Epoch 20/30\n",
      "625/625 [==============================] - 9s 15ms/step - loss: 0.2933 - accuracy: 0.9020 - val_loss: 0.6888 - val_accuracy: 0.8297\n",
      "Epoch 21/30\n",
      "625/625 [==============================] - 9s 14ms/step - loss: 0.2866 - accuracy: 0.9056 - val_loss: 0.6887 - val_accuracy: 0.8347\n",
      "Epoch 22/30\n",
      "625/625 [==============================] - 9s 14ms/step - loss: 0.2754 - accuracy: 0.9087 - val_loss: 0.7240 - val_accuracy: 0.8329\n",
      "Epoch 23/30\n",
      "625/625 [==============================] - 9s 15ms/step - loss: 0.2635 - accuracy: 0.9127 - val_loss: 0.7127 - val_accuracy: 0.8329\n",
      "Epoch 24/30\n",
      "625/625 [==============================] - 9s 15ms/step - loss: 0.2529 - accuracy: 0.9161 - val_loss: 0.7276 - val_accuracy: 0.8366\n",
      "Epoch 25/30\n",
      "625/625 [==============================] - 10s 17ms/step - loss: 0.2409 - accuracy: 0.9180 - val_loss: 0.7576 - val_accuracy: 0.8344\n",
      "Epoch 26/30\n",
      "625/625 [==============================] - 11s 17ms/step - loss: 0.2345 - accuracy: 0.9205 - val_loss: 0.7690 - val_accuracy: 0.8363\n",
      "Epoch 27/30\n",
      "625/625 [==============================] - 11s 17ms/step - loss: 0.2285 - accuracy: 0.9221 - val_loss: 0.7749 - val_accuracy: 0.8346\n",
      "Epoch 28/30\n",
      "625/625 [==============================] - 9s 14ms/step - loss: 0.2201 - accuracy: 0.9249 - val_loss: 0.7810 - val_accuracy: 0.8325\n",
      "Epoch 29/30\n",
      "625/625 [==============================] - 9s 14ms/step - loss: 0.2174 - accuracy: 0.9264 - val_loss: 0.8113 - val_accuracy: 0.8363\n",
      "Epoch 30/30\n",
      "625/625 [==============================] - 10s 15ms/step - loss: 0.2091 - accuracy: 0.9270 - val_loss: 0.8443 - val_accuracy: 0.8332\n"
     ]
    }
   ],
   "source": [
    "model2.compile(optimizer=\"adamax\",\n",
    "              loss=\"sparse_categorical_crossentropy\",\n",
    "              metrics=[\"accuracy\"]\n",
    ")\n",
    "\n",
    "second_arc = model2.fit(X, y, epochs=30,\n",
    "                     batch_size=128,\n",
    "                     validation_split=0.2,\n",
    "                     callbacks=[tensorboard_callback]\n",
    ")"
   ]
  },
  {
   "cell_type": "markdown",
   "metadata": {
    "colab_type": "text",
    "id": "b0QJURWh-9uv"
   },
   "source": [
    "### Visualize the results\n",
    "\n",
    "Create charts for both loss and accuracy by epoch. Use line graphs for both charts. Analyze the results. \n",
    "\n",
    "At what point should we have stopped training the model and why? "
   ]
  },
  {
   "cell_type": "code",
   "execution_count": 10,
   "metadata": {
    "colab": {},
    "colab_type": "code",
    "id": "KONJtU5wqlXf"
   },
   "outputs": [
    {
     "data": {
      "text/plain": [
       "dict"
      ]
     },
     "execution_count": 10,
     "metadata": {},
     "output_type": "execute_result"
    }
   ],
   "source": [
    "type(baseline.history)"
   ]
  },
  {
   "cell_type": "code",
   "execution_count": 11,
   "metadata": {},
   "outputs": [
    {
     "name": "stdout",
     "output_type": "stream",
     "text": [
      "{'loss': [-40.82875442504883, -41.010379791259766, -41.01038360595703, -41.01034927368164, -41.01041030883789, -41.01044464111328, -41.01041030883789, -41.010379791259766, -41.010379791259766, -41.010379791259766, -41.01035690307617, -41.010414123535156, -41.01039505004883, -41.010406494140625, -41.010414123535156, -41.01039123535156, -41.010414123535156, -41.0103874206543, -41.010414123535156, -41.0103874206543, -41.0103759765625, -41.010406494140625, -41.010440826416016, -41.010414123535156, -41.01040267944336, -41.01036071777344, -41.01039505004883, -41.0103759765625, -41.010414123535156, -41.01039505004883], 'accuracy': [0.10131250321865082, 0.10123749822378159, 0.10123749822378159, 0.10123749822378159, 0.10123749822378159, 0.10123749822378159, 0.10123749822378159, 0.10123749822378159, 0.10123749822378159, 0.10123749822378159, 0.10123749822378159, 0.10123749822378159, 0.10123749822378159, 0.10123749822378159, 0.10123749822378159, 0.10123749822378159, 0.10123749822378159, 0.10123749822378159, 0.10123749822378159, 0.10123749822378159, 0.10123749822378159, 0.10123749822378159, 0.10123749822378159, 0.10123749822378159, 0.10123749822378159, 0.10123749822378159, 0.10123749822378159, 0.10123749822378159, 0.10123749822378159, 0.10123749822378159], 'val_loss': [-41.42763900756836, -41.42763900756836, -41.42763900756836, -41.42763900756836, -41.42763900756836, -41.42763900756836, -41.42763900756836, -41.42763900756836, -41.42763900756836, -41.42763900756836, -41.42763900756836, -41.42763900756836, -41.42763900756836, -41.42763900756836, -41.42763900756836, -41.42763900756836, -41.42763900756836, -41.42763900756836, -41.42763900756836, -41.42763900756836, -41.42763900756836, -41.42763900756836, -41.42763900756836, -41.42763900756836, -41.42763900756836, -41.42763900756836, -41.42763900756836, -41.42763900756836, -41.42763900756836, -41.42763900756836], 'val_accuracy': [0.09769999980926514, 0.09769999980926514, 0.09769999980926514, 0.09769999980926514, 0.09769999980926514, 0.09769999980926514, 0.09769999980926514, 0.09769999980926514, 0.09769999980926514, 0.09769999980926514, 0.09769999980926514, 0.09769999980926514, 0.09769999980926514, 0.09769999980926514, 0.09769999980926514, 0.09769999980926514, 0.09769999980926514, 0.09769999980926514, 0.09769999980926514, 0.09769999980926514, 0.09769999980926514, 0.09769999980926514, 0.09769999980926514, 0.09769999980926514, 0.09769999980926514, 0.09769999980926514, 0.09769999980926514, 0.09769999980926514, 0.09769999980926514, 0.09769999980926514]}\n"
     ]
    }
   ],
   "source": [
    "print(baseline.history)"
   ]
  },
  {
   "cell_type": "code",
   "execution_count": 12,
   "metadata": {
    "colab": {},
    "colab_type": "code",
    "id": "ijAlzfYKAFaY"
   },
   "outputs": [
    {
     "data": {
      "image/png": "[encoded data removed]",
      "text/plain": [
       "<Figure size 432x288 with 1 Axes>"
      ]
     },
     "metadata": {
      "needs_background": "light"
     },
     "output_type": "display_data"
    }
   ],
   "source": [
    "import seaborn as sns\n",
    "import pandas as pd\n",
    "\n",
    "base_df = pd.DataFrame.from_records(baseline.history)\n",
    "base_df['epoch'] = [i for i in range(base_df.shape[0])]\n",
    "\n",
    "ax = sns.lineplot(x='epoch', y='val_loss', data=base_df)\n",
    "ax = sns.lineplot(x='epoch', y='loss', data=base_df);"
   ]
  },
  {
   "cell_type": "code",
   "execution_count": 13,
   "metadata": {},
   "outputs": [
    {
     "name": "stdout",
     "output_type": "stream",
     "text": [
      "{'loss': [3.0186479091644287, 1.2173006534576416, 0.991102933883667, 0.8407999277114868, 0.7340602278709412, 0.6526136994361877, 0.5913281440734863, 0.5466811656951904, 0.5072576403617859, 0.47618043422698975, 0.44967925548553467, 0.4280479848384857, 0.40766382217407227, 0.38837894797325134, 0.37008604407310486, 0.3532717823982239, 0.3383827805519104, 0.32526856660842896, 0.31291139125823975, 0.3004888892173767, 0.28944462537765503, 0.2781870663166046, 0.268564373254776, 0.259341835975647, 0.25082629919052124, 0.242950901389122, 0.233435720205307, 0.22610901296138763, 0.22247299551963806, 0.21378539502620697], 'accuracy': [0.48487499356269836, 0.628250002861023, 0.7088375091552734, 0.7517625093460083, 0.7791875004768372, 0.799762487411499, 0.8150749802589417, 0.8287875056266785, 0.8388749957084656, 0.8483499884605408, 0.8565499782562256, 0.8624749779701233, 0.8691750168800354, 0.8741000294685364, 0.8811249732971191, 0.8862125277519226, 0.8898249864578247, 0.8930875062942505, 0.8971874713897705, 0.9005500078201294, 0.9042375087738037, 0.9075875282287598, 0.9110375046730042, 0.9133750200271606, 0.9158124923706055, 0.9180750250816345, 0.9200875163078308, 0.9228249788284302, 0.9239875078201294, 0.9258249998092651], 'val_loss': [1.396245002746582, 1.1223145723342896, 0.9602532982826233, 0.8502662181854248, 0.776036262512207, 0.7102068066596985, 0.6866515874862671, 0.6568643450737, 0.658207893371582, 0.6237426996231079, 0.6299717426300049, 0.6243874430656433, 0.6164728403091431, 0.644061803817749, 0.6311399936676025, 0.6398189663887024, 0.6552401185035706, 0.6620991230010986, 0.6708661317825317, 0.6888458728790283, 0.6886559724807739, 0.7240145206451416, 0.7126818895339966, 0.727564811706543, 0.757637083530426, 0.7690274715423584, 0.774879515171051, 0.7810319066047668, 0.8112971186637878, 0.8442996144294739], 'val_accuracy': [0.5717999935150146, 0.6657500267028809, 0.7298499941825867, 0.7533000111579895, 0.7728000283241272, 0.7935500144958496, 0.8010500073432922, 0.8117499947547913, 0.8050500154495239, 0.819350004196167, 0.8230000138282776, 0.8291000127792358, 0.8290500044822693, 0.8299999833106995, 0.8324999809265137, 0.8312000036239624, 0.8331500291824341, 0.8325499892234802, 0.8329499959945679, 0.8296999931335449, 0.8346999883651733, 0.8329499959945679, 0.8329499959945679, 0.8366000056266785, 0.8343999981880188, 0.8363000154495239, 0.8345500230789185, 0.8325499892234802, 0.8362500071525574, 0.8332499861717224]}\n"
     ]
    }
   ],
   "source": [
    "print(second_arc.history)"
   ]
  },
  {
   "cell_type": "code",
   "execution_count": 14,
   "metadata": {},
   "outputs": [
    {
     "data": {
      "image/png": "[encoded data removed]",
      "text/plain": [
       "<Figure size 432x288 with 1 Axes>"
      ]
     },
     "metadata": {
      "needs_background": "light"
     },
     "output_type": "display_data"
    }
   ],
   "source": [
    "df = pd.DataFrame.from_records(second_arc.history)\n",
    "df['epoch'] = [i for i in range(df.shape[0])]\n",
    "\n",
    "ax = sns.lineplot(x='epoch', y='val_loss', data=df)\n",
    "ax = sns.lineplot(x='epoch', y='loss', data=df);"
   ]
  },
  {
   "cell_type": "markdown",
   "metadata": {
    "colab_type": "text",
    "id": "MAhBrcE4yOZe"
   },
   "source": [
    "## Change Optimizers\n",
    "Try using the keras `adam` optimizer instead of `sgd` in your model. Visualize the difference in validation loss between the models with different optimizers. "
   ]
  },
  {
   "cell_type": "markdown",
   "metadata": {},
   "source": [
    "I used \"Adam\" optimizer above; I had strange errors with the SGD optimizer. First, my tensorflow_callback sent an error with SGD, then, when removing the tensorflow_callback, no lines showed on the plot.\n",
    "\n",
    "Though, upon further reflection and tinkering, I've found between the sixth and ninth epoch should be the best stopping spot."
   ]
  },
  {
   "cell_type": "code",
   "execution_count": 15,
   "metadata": {
    "colab": {},
    "colab_type": "code",
    "id": "jIW_spOZ0cxy"
   },
   "outputs": [],
   "source": [
    "# from tf.keras.optimizers import Adam\n",
    "\n",
    "# adam = Adam()"
   ]
  },
  {
   "cell_type": "markdown",
   "metadata": {
    "colab_type": "text",
    "id": "EJrbh3qryi4w"
   },
   "source": [
    "### Additional Written Tasks:\n",
    "In this section, you will need to search for resources: \n",
    "1. Investigate the various [loss functions](https://www.tensorflow.org/api_docs/python/tf/keras/losses). Which is best suited for the task at hand (predicting 1 / 0) and why? \n",
    "Binary crossentropy \n",
    "2. What is the difference between a loss function and a metric? Why might we need both in Keras? \n",
    "3. Investigate the various [optimizers](https://www.tensorflow.org/api_docs/python/tf/keras/optimizers). Stochastic Gradient Descent (`sgd`) is not the learning algorithm dejour anyone. Why is that? What do newer optimizers such as `adam` have to offer? "
   ]
  },
  {
   "cell_type": "markdown",
   "metadata": {
    "colab_type": "text",
    "id": "Gzs4fd-RynDd"
   },
   "source": [
    "## Stretch Goals: \n",
    "\n",
    "- Research convolutional neural networks and try including convolution layers in your network.\n",
    "- Pick two classes and make QuickDraw a binary classification problem, how does your model architecture change?\n",
    "- Implement Cross Validation model evaluation on your Quickdraw implementation \n",
    "\n",
    "Watch some more videos on Gradient Descent:\n",
    "- [Gradient Descent, Step-by-Step](https://www.youtube.com/watch?v=sDv4f4s2SB8)  by StatQuest w/ Josh Starmer. This will help you understand the gradient descent based optimization that happens underneath the hood of neural networks. It uses a non-neural network example, which I believe is a gentler introduction. You will hear me refer to this technique as \"vanilla\" gradient descent. \n",
    "- [Stochastic Gradient Descent, Clearly Explained!!!](https://www.youtube.com/watch?v=vMh0zPT0tLI) by StatQuest w/ Josh Starmer. This builds on the techniques in the previous video.  This technique is the one that is actually implemented inside modern 'nets. \n",
    "- [Siraj Raval the evolution of gradient descent](https://www.youtube.com/watch?v=nhqo0u1a6fw)"
   ]
  }
 ],
 "metadata": {
  "accelerator": "GPU",
  "colab": {
   "collapsed_sections": [],
   "name": "LS_DS_432_TensorFlow_Assignment",
   "provenance": []
  },
  "kernelspec": {
   "display_name": "U4-S2-NN (Python3)",
   "language": "python",
   "name": "u4-s2-nn"
  },
  "language_info": {
   "codemirror_mode": {
    "name": "ipython",
    "version": 3
   },
   "file_extension": ".py",
   "mimetype": "text/x-python",
   "name": "python",
   "nbconvert_exporter": "python",
   "pygments_lexer": "ipython3",
   "version": "3.7.10"
  }
 },
 "nbformat": 4,
 "nbformat_minor": 1
}
