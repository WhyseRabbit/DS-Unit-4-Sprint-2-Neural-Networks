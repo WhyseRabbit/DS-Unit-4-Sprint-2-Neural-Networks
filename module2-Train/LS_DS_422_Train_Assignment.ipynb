{
 "cells": [
  {
   "cell_type": "markdown",
   "metadata": {
    "colab_type": "text",
    "id": "NGGrt9EYlCqY"
   },
   "source": [
    "\n",
    "\n",
    "# Train Practice\n",
    "\n",
    "## *Data Science Unit 4 Sprint 2 Assignment 2*\n",
    "\n",
    "Continue to use TensorFlow Keras & a sample of the [Quickdraw dataset](https://github.com/googlecreativelab/quickdraw-dataset) to build a sketch classification model. The dataset has been sampled to only 10 classes and 10000 observations per class. Please build a baseline classification model then run a few experiments with different optimizers and learning rates. \n",
    "\n",
    "*Don't forgot to switch to GPU on Colab!*\n",
    "\n",
    "\n",
    "------\n",
    "\n",
    "# Objective \n",
    "\n",
    "We are going to run a few experiments today\n",
    "\n",
    "- Train a model with and without normalized data and investigate the weight values and learning outcomes\n",
    "- Train a model with varying values for batch_size, learning_rate, and optimizers\n",
    "\n",
    "We are essentially running mannual gridsearches on our models. In module 3, we'll learn a few different ways to automate gridseach for deep learning. "
   ]
  },
  {
   "cell_type": "code",
   "execution_count": 1,
   "metadata": {},
   "outputs": [],
   "source": [
    "import os\n",
    "import datetime\n",
    "import random\n",
    "\n",
    "import numpy as np\n",
    "import pandas as pd\n",
    "import matplotlib.pyplot as plt\n",
    "\n",
    "import tensorflow as tf\n",
    "from tensorflow.keras import Sequential\n",
    "from tensorflow.keras.layers import Dense, ReLU\n",
    "from sklearn.model_selection import train_test_split\n",
    "\n",
    "from keras.optimizers import Adam, SGD\n",
    "from keras.activations import relu\n",
    "from tensorflow.keras.callbacks import TensorBoard"
   ]
  },
  {
   "cell_type": "code",
   "execution_count": 2,
   "metadata": {},
   "outputs": [],
   "source": [
    "%matplotlib inline\n",
    "%load_ext tensorboard"
   ]
  },
  {
   "cell_type": "markdown",
   "metadata": {},
   "source": [
    "### Load data\n",
    "\n",
    "- Don't normalize your data just yet!"
   ]
  },
  {
   "cell_type": "code",
   "execution_count": 3,
   "metadata": {
    "colab": {},
    "colab_type": "code",
    "id": "nJsIsrvp7O3e"
   },
   "outputs": [],
   "source": [
    "def load_quickdraw10():\n",
    "    \"\"\"\n",
    "    Extracts and loads the quickdraw10 Neural Network practice dataset and splits it into training and testing data. \n",
    "    \"\"\"\n",
    "    \n",
    "    URL_ = \"https://github.com/LambdaSchool/DS-Unit-4-Sprint-2-Neural-Networks/blob/main/quickdraw10.npz?raw=true\"\n",
    "    \n",
    "    path_to_zip = tf.keras.utils.get_file('../quickdraw10.npz', origin=URL_, extract=False)\n",
    "\n",
    "    data = np.load(path_to_zip)\n",
    "\n",
    "    X = data['arr_0']\n",
    "    Y = data['arr_1']\n",
    "        \n",
    "    return train_test_split(X, Y, shuffle=True)"
   ]
  },
  {
   "cell_type": "code",
   "execution_count": 4,
   "metadata": {},
   "outputs": [],
   "source": [
    "X_train, X_test, y_train, y_test = load_quickdraw10()"
   ]
  },
  {
   "cell_type": "code",
   "execution_count": 5,
   "metadata": {},
   "outputs": [
    {
     "name": "stdout",
     "output_type": "stream",
     "text": [
      "75000 25000 75000 25000\n"
     ]
    }
   ],
   "source": [
    "print(len(X_train), len(X_test), len(y_train), len(y_test))"
   ]
  },
  {
   "cell_type": "markdown",
   "metadata": {
    "colab_type": "text",
    "id": "l-6PxI6H5__2"
   },
   "source": [
    "----\n",
    "### Write a Model Function\n",
    "- Write a function called `create_model` which returns a compiled TensorFlow Keras Sequential Model suitable for classifying the QuickDraw-10 dataset. \n",
    "\n",
    "Your function `create_model` should accept the following parameters\n",
    "\n",
    "- Learning Rate `lr`\n",
    "- Optimizer `opt`\n",
    "\n",
    "\n",
    "Build a model with the following architecture and parameter values\n",
    "\n",
    "- Use `1 hidden layer` \n",
    "- Use `sigmoid` activation function in hidden layer\n",
    "- Use `250 nodes` in hidden layer \n",
    "- Use `10 nodes` in output layer\n",
    "- Use `softmax` activation fucntion in output layer\n",
    "- Use `sparse_categorical_crossentropy` loss function\n",
    "- Use `accuracy` as your metric \n",
    "\n",
    "We will use this function to build all the models that we'll need to run our experiments. "
   ]
  },
  {
   "cell_type": "code",
   "execution_count": 6,
   "metadata": {
    "colab": {},
    "colab_type": "code",
    "deletable": false,
    "id": "nEREYT-3wI1f",
    "nbgrader": {
     "cell_type": "code",
     "checksum": "6692fdabca8804cd50380fd4b9a56169",
     "grade": false,
     "grade_id": "cell-355125ca910bfedb",
     "locked": false,
     "schema_version": 3,
     "solution": true,
     "task": false
    }
   },
   "outputs": [],
   "source": [
    "def create_model(lr=.01, opt=\"adam\"):\n",
    "    \"\"\"\n",
    "    \n",
    "    Build and returns a complies Keras model.  \n",
    "    \n",
    "    Parameters\n",
    "    ----------\n",
    "    lr: float\n",
    "        Learing rate parameter used for Stocastic Gradient Descent \n",
    "        \n",
    "    opt: string\n",
    "        Name of optimizer to use\n",
    "        Valid options are \"adam\" and \"sgd\"\n",
    "        \n",
    "    Returns\n",
    "    -------\n",
    "    model: keras object \n",
    "        A complied keras model \n",
    "    \"\"\"\n",
    "\n",
    "    if opt == \"adam\":\n",
    "        opt = Adam(learning_rate=lr)\n",
    "    elif opt == 'sgd':\n",
    "        opt = SGD(learning_rate=lr)\n",
    "    else:\n",
    "        print (\"{} is not a valid option. Defaulting to Adam optimizer\".format(opt))\n",
    "        opt = Adam(learning_rate=lr)\n",
    "\n",
    "    opt = Adam()\n",
    "    \n",
    "    model = Sequential([\n",
    "        Dense(64, activation=\"relu\"),\n",
    "        Dense(250, activation=\"sigmoid\"),\n",
    "        Dense(10, activation=\"softmax\")\n",
    "    ])\n",
    "    \n",
    "    model.compile(\n",
    "        optimizer=opt,\n",
    "        loss=\"sparse_categorical_crossentropy\",\n",
    "        metrics=[\"accuracy\"]\n",
    "    )\n",
    "    \n",
    "    return model"
   ]
  },
  {
   "cell_type": "code",
   "execution_count": 7,
   "metadata": {},
   "outputs": [
    {
     "data": {
      "text/plain": [
       "3"
      ]
     },
     "execution_count": 7,
     "metadata": {},
     "output_type": "execute_result"
    }
   ],
   "source": [
    "model = create_model()\n",
    "\n",
    "n_layers = len(model.get_config()[\"layers\"])\n",
    "n_layers"
   ]
  },
  {
   "cell_type": "code",
   "execution_count": 8,
   "metadata": {},
   "outputs": [],
   "source": [
    "# a check on model architecture\n",
    "n_layers = len(model.get_config()[\"layers\"])\n",
    "output_act_funct =  model.get_config()[\"layers\"][-1][\"config\"][\"activation\"]\n",
    "\n",
    "assert n_layers == 3, \"You should have an input, one hidden, and an output layer\"\n",
    "assert output_act_funct == \"softmax\", \"Output act funct should be softmax\""
   ]
  },
  {
   "cell_type": "markdown",
   "metadata": {},
   "source": [
    "------\n",
    "\n",
    "# Experiment #1: How does normalized input data affect our model's learning outcome?\n",
    "\n",
    "In this experiment we are going to answer the above question by training identifical models on a normalized data set and on a non-normalized data set. \n",
    "\n",
    "Then we will \n",
    "\n",
    "- Analyze the trained weight values of our model \n",
    "- Plot"
   ]
  },
  {
   "cell_type": "code",
   "execution_count": 9,
   "metadata": {},
   "outputs": [],
   "source": [
    "# Clear any logs from previous runs\n",
    "!rm -rf ./logs/"
   ]
  },
  {
   "cell_type": "markdown",
   "metadata": {},
   "source": [
    "### Fit Model on Non-Normalized data"
   ]
  },
  {
   "cell_type": "code",
   "execution_count": 10,
   "metadata": {},
   "outputs": [
    {
     "name": "stdout",
     "output_type": "stream",
     "text": [
      "Epoch 1/10\n",
      "2344/2344 [==============================] - 20s 8ms/step - loss: 1.0831 - accuracy: 0.6500 - val_loss: 0.7503 - val_accuracy: 0.7662\n",
      "Epoch 2/10\n",
      "2344/2344 [==============================] - 18s 8ms/step - loss: 0.7425 - accuracy: 0.7683 - val_loss: 0.7043 - val_accuracy: 0.7798\n",
      "Epoch 3/10\n",
      "2344/2344 [==============================] - 15s 7ms/step - loss: 0.6988 - accuracy: 0.7855 - val_loss: 0.6988 - val_accuracy: 0.7859\n",
      "Epoch 4/10\n",
      "2344/2344 [==============================] - 16s 7ms/step - loss: 0.6747 - accuracy: 0.7913 - val_loss: 0.6696 - val_accuracy: 0.7946\n",
      "Epoch 5/10\n",
      "2344/2344 [==============================] - 17s 7ms/step - loss: 0.6685 - accuracy: 0.7921 - val_loss: 0.6627 - val_accuracy: 0.7968\n",
      "Epoch 6/10\n",
      "2344/2344 [==============================] - 18s 8ms/step - loss: 0.6419 - accuracy: 0.8022 - val_loss: 0.6516 - val_accuracy: 0.8039\n",
      "Epoch 7/10\n",
      "2344/2344 [==============================] - 16s 7ms/step - loss: 0.6312 - accuracy: 0.8061 - val_loss: 0.6498 - val_accuracy: 0.8007\n",
      "Epoch 8/10\n",
      "2344/2344 [==============================] - 17s 7ms/step - loss: 0.6241 - accuracy: 0.8078 - val_loss: 0.6223 - val_accuracy: 0.8108\n",
      "Epoch 9/10\n",
      "2344/2344 [==============================] - 16s 7ms/step - loss: 0.6124 - accuracy: 0.8121 - val_loss: 0.6497 - val_accuracy: 0.8008\n",
      "Epoch 10/10\n",
      "2344/2344 [==============================] - 16s 7ms/step - loss: 0.6369 - accuracy: 0.8025 - val_loss: 0.6418 - val_accuracy: 0.8050\n"
     ]
    }
   ],
   "source": [
    "# fit model on non-normalized data\n",
    "\n",
    "now = datetime.datetime.now().strftime(\"%Y%m%d-%H%M%S\")\n",
    "logdir = os.path.join(\"logs\", f\"No_Normalization-{now}\")\n",
    "tensorboard = TensorBoard(log_dir=logdir,  histogram_freq=1)\n",
    "\n",
    "model = create_model(lr=.001, opt=\"adam\")\n",
    "\n",
    "flat_model = model.fit(X_train, y_train, \n",
    "          validation_data=(X_test, y_test),\n",
    "          workers=-2, \n",
    "          epochs=10, \n",
    "          batch_size=32, \n",
    "          verbose=1, \n",
    "          callbacks=[tensorboard])"
   ]
  },
  {
   "cell_type": "code",
   "execution_count": 11,
   "metadata": {},
   "outputs": [
    {
     "name": "stdout",
     "output_type": "stream",
     "text": [
      "{'loss': [0.8785783052444458, 0.730019211769104, 0.6951911449432373, 0.6786448359489441, 0.6678853034973145, 0.6466047167778015, 0.6302534937858582, 0.6229027509689331, 0.6144528388977051, 0.6347092986106873], 'accuracy': [0.7240666747093201, 0.7734533548355103, 0.7857199907302856, 0.7897999882698059, 0.793066680431366, 0.8008933067321777, 0.8056133389472961, 0.8075600266456604, 0.8095466494560242, 0.8036666512489319], 'val_loss': [0.7502771615982056, 0.704256534576416, 0.6988232731819153, 0.6696386933326721, 0.6627263426780701, 0.6515923142433167, 0.649832010269165, 0.6222983598709106, 0.649700403213501, 0.6417588591575623], 'val_accuracy': [0.7662400007247925, 0.7798399925231934, 0.7859200239181519, 0.7945600152015686, 0.7968400120735168, 0.8039199709892273, 0.8006799817085266, 0.8108400106430054, 0.8008000254631042, 0.8050400018692017]}\n"
     ]
    }
   ],
   "source": [
    "print(flat_model.history)"
   ]
  },
  {
   "cell_type": "markdown",
   "metadata": {},
   "source": [
    "---------\n",
    "\n",
    "### Fit Model on Normalized data"
   ]
  },
  {
   "cell_type": "code",
   "execution_count": 12,
   "metadata": {
    "deletable": false,
    "nbgrader": {
     "cell_type": "code",
     "checksum": "ccc6ed9c1e2c04f77eac26d557236dad",
     "grade": false,
     "grade_id": "cell-2792e5f1fbf02c67",
     "locked": false,
     "schema_version": 3,
     "solution": true,
     "task": false
    }
   },
   "outputs": [],
   "source": [
    "# Normalize your training and test sets \n",
    "# save normalized data to X_train_scaled and X_test_scaled\n",
    "\n",
    "X_train_scaled = X_train / 255\n",
    "X_test_scaled = X_test / 255"
   ]
  },
  {
   "cell_type": "code",
   "execution_count": 13,
   "metadata": {},
   "outputs": [
    {
     "name": "stdout",
     "output_type": "stream",
     "text": [
      "Epoch 1/10\n",
      "2344/2344 [==============================] - 17s 7ms/step - loss: 0.9331 - accuracy: 0.7101 - val_loss: 0.5860 - val_accuracy: 0.8224\n",
      "Epoch 2/10\n",
      "2344/2344 [==============================] - 16s 7ms/step - loss: 0.5317 - accuracy: 0.8368 - val_loss: 0.5006 - val_accuracy: 0.8493\n",
      "Epoch 3/10\n",
      "2344/2344 [==============================] - 16s 7ms/step - loss: 0.4641 - accuracy: 0.8571 - val_loss: 0.4696 - val_accuracy: 0.8582\n",
      "Epoch 4/10\n",
      "2344/2344 [==============================] - 16s 7ms/step - loss: 0.4192 - accuracy: 0.8713 - val_loss: 0.4549 - val_accuracy: 0.8615\n",
      "Epoch 5/10\n",
      "2344/2344 [==============================] - 16s 7ms/step - loss: 0.3861 - accuracy: 0.8810 - val_loss: 0.4500 - val_accuracy: 0.8638\n",
      "Epoch 6/10\n",
      "2344/2344 [==============================] - 16s 7ms/step - loss: 0.3651 - accuracy: 0.8887 - val_loss: 0.4506 - val_accuracy: 0.8640\n",
      "Epoch 7/10\n",
      "2344/2344 [==============================] - 16s 7ms/step - loss: 0.3408 - accuracy: 0.8948 - val_loss: 0.4612 - val_accuracy: 0.8618\n",
      "Epoch 8/10\n",
      "2344/2344 [==============================] - 16s 7ms/step - loss: 0.3245 - accuracy: 0.9007 - val_loss: 0.4457 - val_accuracy: 0.8698\n",
      "Epoch 9/10\n",
      "2344/2344 [==============================] - 15s 6ms/step - loss: 0.3044 - accuracy: 0.9056 - val_loss: 0.4441 - val_accuracy: 0.8693\n",
      "Epoch 10/10\n",
      "2344/2344 [==============================] - 15s 6ms/step - loss: 0.2832 - accuracy: 0.9133 - val_loss: 0.4582 - val_accuracy: 0.8695\n"
     ]
    }
   ],
   "source": [
    "# train model on normalized data\n",
    "\n",
    "now = datetime.datetime.now().strftime(\"%Y%m%d-%H%M%S\")\n",
    "logdir = os.path.join(\"logs\", f\"Normalization-{now}\")\n",
    "tensorboard = TensorBoard(log_dir=logdir,  histogram_freq=1)\n",
    "\n",
    "norm_model = create_model(lr=.001, opt=\"adam\")\n",
    "\n",
    "n_model = norm_model.fit(X_train_scaled, y_train, \n",
    "                  validation_data=(X_test_scaled, y_test),\n",
    "                  workers=-2, \n",
    "                  epochs=10, \n",
    "                  batch_size=32, \n",
    "                  verbose=1, \n",
    "                  callbacks=[tensorboard])"
   ]
  },
  {
   "cell_type": "markdown",
   "metadata": {},
   "source": [
    "### Each layer is labeled\n",
    "\n",
    "Take note of the label for each layer in the network. It is these labels that will help you identify the corresponding bias and weight distribtuions on tensorboard. \n",
    "\n",
    "Assuming that you've ran `create_model` 3 times: once for the model check, once to create `model`, and once to create `norm_model`:\n",
    "\n",
    "The name of the layers for `model` should be \n",
    "- dense_2\n",
    "- dense_3\n",
    "\n",
    "The name of the layers for `norm_model` should be \n",
    "- dense_4\n",
    "- dense_5\n",
    "\n",
    "\n",
    "If you keep retraining one or both of these models, tensorflow will increment the integer used in the layer names.  But that doesn't really matter, just take notice of the layer names so you can find their corresponding bias and weight distribtuions in tensorboard.\n",
    "\n",
    "**Protip:** If you want to reset the integer incrementation that tensorflow uses, you'll need to restart your notebook's kernal. "
   ]
  },
  {
   "cell_type": "code",
   "execution_count": 14,
   "metadata": {},
   "outputs": [
    {
     "name": "stdout",
     "output_type": "stream",
     "text": [
      "Model: \"sequential_1\"\n",
      "_________________________________________________________________\n",
      "Layer (type)                 Output Shape              Param #   \n",
      "=================================================================\n",
      "dense_3 (Dense)              (None, 64)                50240     \n",
      "_________________________________________________________________\n",
      "dense_4 (Dense)              (None, 250)               16250     \n",
      "_________________________________________________________________\n",
      "dense_5 (Dense)              (None, 10)                2510      \n",
      "=================================================================\n",
      "Total params: 69,000\n",
      "Trainable params: 69,000\n",
      "Non-trainable params: 0\n",
      "_________________________________________________________________\n"
     ]
    }
   ],
   "source": [
    "model.summary()"
   ]
  },
  {
   "cell_type": "code",
   "execution_count": 15,
   "metadata": {},
   "outputs": [
    {
     "name": "stdout",
     "output_type": "stream",
     "text": [
      "Model: \"sequential_2\"\n",
      "_________________________________________________________________\n",
      "Layer (type)                 Output Shape              Param #   \n",
      "=================================================================\n",
      "dense_6 (Dense)              (None, 64)                50240     \n",
      "_________________________________________________________________\n",
      "dense_7 (Dense)              (None, 250)               16250     \n",
      "_________________________________________________________________\n",
      "dense_8 (Dense)              (None, 10)                2510      \n",
      "=================================================================\n",
      "Total params: 69,000\n",
      "Trainable params: 69,000\n",
      "Non-trainable params: 0\n",
      "_________________________________________________________________\n"
     ]
    }
   ],
   "source": [
    "norm_model.summary()"
   ]
  },
  {
   "cell_type": "markdown",
   "metadata": {},
   "source": [
    "### Tensorboard \n",
    "\n",
    "- Run the cell below to launch tensorboard \n",
    "- Click on the `SCALARS` tab to see plots that compare the loss and accuracy between the two models\n",
    "- Cick on the `HISTOGRAMS` tab to see the distribution of the learned weights "
   ]
  },
  {
   "cell_type": "code",
   "execution_count": 16,
   "metadata": {},
   "outputs": [
    {
     "data": {
      "text/html": [
       "\n",
       "      <iframe id=\"tensorboard-frame-64c5fabe20ca041\" width=\"100%\" height=\"800\" frameborder=\"0\">\n",
       "      </iframe>\n",
       "      <script>\n",
       "        (function() {\n",
       "          const frame = document.getElementById(\"tensorboard-frame-64c5fabe20ca041\");\n",
       "          const url = new URL(\"/\", window.location);\n",
       "          const port = 6006;\n",
       "          if (port) {\n",
       "            url.port = port;\n",
       "          }\n",
       "          frame.src = url;\n",
       "        })();\n",
       "      </script>\n",
       "    "
      ],
      "text/plain": [
       "<IPython.core.display.HTML object>"
      ]
     },
     "metadata": {},
     "output_type": "display_data"
    }
   ],
   "source": [
    "%tensorboard --logdir logs"
   ]
  },
  {
   "cell_type": "markdown",
   "metadata": {},
   "source": [
    "### Tensorboard \n",
    "\n",
    "Check out the loss and accuracy plots on the `SCALARS` tab. \n",
    "\n",
    "What you should see is that the accuracy is much higher for the model that was given normalized data; conversely, the loss is much lower for the model that was given normalized data. \n",
    "\n",
    "Recall that what we are doing whenever training a model is adjusting the value of the bias and weights in each layer. For simplicity of analysis, we only trained two layers: a hidden layer and the output layer. \n",
    "\n",
    "Now click on the `HISTOGRAM` tab. \n",
    "\n",
    "You should see both of your model's layer names. \n",
    "\n",
    "### Hidden Layer Distributions\n",
    "\n",
    "Collapse the charts that correspond to the output layer so only the distributions for the weights and bias in the hidden layer are showing. (i.e. Only expand `dense_2` and `dense_4`). \n",
    "\n",
    "Also don't be confused by the word `kernel`, that's just the word that Tensorflow uses instead of weights. So, to be clear, **the kernal distributions are the weight values.** \n",
    "\n",
    "The `bias` distributions are the bias values. \n",
    "\n",
    "You should see 10 distributions stacked next to each other, **one distribution per epoch.**\n",
    "\n",
    "The distribuion in the far back corresponds to the weight values at epoch 1 (tensorflow starts the count at 0, like the index for a list). The distribution at the very front corresponds to the weight values at the 10th epoch (tensorflow indexing show 9 instead of 10).\n",
    "\n",
    "Notice how the shape of the distribution changes accross epochs? That's because their **values are being updated via Gradient Descent.** \n",
    "\n",
    "The distributions that you see are direclty responsible for the validation accuracy of our models. The reason why they look different between the two models is because one model was given normalize data and one wasn't. So you can conclude that the weight distributions in `dense_4` produce a higher validation accuracy than the weight distributions in `dense_2`. \n",
    "\n",
    "Now it's time to analyze those weight values more closely. "
   ]
  },
  {
   "cell_type": "markdown",
   "metadata": {},
   "source": [
    "----------\n",
    "### Analyze Weights in Each Layer"
   ]
  },
  {
   "cell_type": "code",
   "execution_count": 17,
   "metadata": {},
   "outputs": [],
   "source": [
    "# get the final bias and weight matrices for model\n",
    "layer = model.get_layer(name=\"dense_4\")\n",
    "bias, weights = layer.get_weights()"
   ]
  },
  {
   "cell_type": "code",
   "execution_count": 18,
   "metadata": {},
   "outputs": [],
   "source": [
    "# get the final  value bias and weight magrices for norm_moel\n",
    "layer2 = norm_model.get_layer(name=\"dense_7\")\n",
    "bias_norm, weights_norm = layer2.get_weights()"
   ]
  },
  {
   "cell_type": "code",
   "execution_count": 19,
   "metadata": {},
   "outputs": [],
   "source": [
    "# this line of code should not throw an error if the number of weights is the same for the hidden layer of both models\n",
    "# this line of code is known as a Unit Test \n",
    "assert weights.shape[0] == weights_norm.shape[0]"
   ]
  },
  {
   "cell_type": "markdown",
   "metadata": {},
   "source": [
    "### Initial Weight Values\n",
    "\n",
    "By default, Keras dense layers randomly initialize the weight values using [**GlorotUniform**](https://keras.io/api/layers/initializers/). \n",
    "\n",
    "The cell below is sampling values from the GlorotUniform distribution. Let's sample from the GlorotUniform distribution and plot it in order to get a sense of the initial distribution of our weights - before Gradient Descent starts upading their values at training time. "
   ]
  },
  {
   "cell_type": "code",
   "execution_count": 20,
   "metadata": {},
   "outputs": [],
   "source": [
    "# let's take 250 random samples form the GlorotUniform\n",
    "# because they are random samples their exact values might have been a little different for model and norm_model - but we will assume that they were not statistically different \n",
    "# 250 because that's how many weights are in the hidden layer for both of our models\n",
    "initializer = tf.keras.initializers.GlorotUniform(seed=1234)\n",
    "initial_weight_values = initializer(shape=(1, 250))"
   ]
  },
  {
   "cell_type": "code",
   "execution_count": 21,
   "metadata": {},
   "outputs": [
    {
     "data": {
      "image/png": "[encoded data removed]",
      "text/plain": [
       "<Figure size 1440x432 with 1 Axes>"
      ]
     },
     "metadata": {
      "needs_background": "light"
     },
     "output_type": "display_data"
    }
   ],
   "source": [
    "plt.figure(figsize=(20,6))\n",
    "plt.title(\"Learned Weights in Hidden Layers\")\n",
    "plt.xlabel(\"Weight Values\")\n",
    "plt.grid()\n",
    "\n",
    "# by setting density=True, we are transforming our plots into probability distributions \n",
    "plt.hist(weights, bins=20, alpha=0.5, label=\"weights from model\", density=True);\n",
    "plt.hist(weights_norm, bins=20, alpha=0.5, label=\"weights from norm_model\", density=True);\n",
    "plt.hist(initial_weight_values, bins=20, alpha=0.5, label=\"initial weight values\", density=True);\n",
    "plt.legend(fontsize=\"x-large\");"
   ]
  },
  {
   "cell_type": "markdown",
   "metadata": {},
   "source": [
    "### Observations\n",
    "\n",
    "Your plot should have 3 distributions\n",
    "\n",
    "- weights from model trained on non-normalized data\n",
    "- weights from model trained on normalized data\n",
    "- initial weight values sampled from a Glorot Uniform distributions \n",
    "\n",
    "Use the plot to answer the following questions."
   ]
  },
  {
   "cell_type": "markdown",
   "metadata": {},
   "source": [
    "**Comparing the initial weights with weights_from_model, what was the effect of not using normalized data?**"
   ]
  },
  {
   "cell_type": "markdown",
   "metadata": {
    "deletable": false,
    "nbgrader": {
     "cell_type": "markdown",
     "checksum": "500ff9c3902f635e0a9aafa64e2cc95d",
     "grade": true,
     "grade_id": "cell-4d6c92df9d105c46",
     "locked": false,
     "points": 0,
     "schema_version": 3,
     "solution": true,
     "task": false
    }
   },
   "source": [
    "The weights are much more condensed, giving the impression that this model's overall predictability is unreliable. There will likely be many false calls."
   ]
  },
  {
   "cell_type": "markdown",
   "metadata": {},
   "source": [
    "**Comparing the initial weights with weights_from_norm_model, what was the effect of using normalized data?**"
   ]
  },
  {
   "cell_type": "markdown",
   "metadata": {
    "deletable": false,
    "nbgrader": {
     "cell_type": "markdown",
     "checksum": "23d7012c3d7ce759e5389a0dfee1892a",
     "grade": true,
     "grade_id": "cell-614992ba50bf54c4",
     "locked": false,
     "points": 0,
     "schema_version": 3,
     "solution": true,
     "task": false
    }
   },
   "source": [
    "The weights are much more evenly distributed, implying a model in which the architect can be confident. They also fall under the 0-1 category that is necessary for these equations."
   ]
  },
  {
   "cell_type": "markdown",
   "metadata": {},
   "source": [
    "**Using your understand of how Gradient Descent works, why do you think that the distributions between weights_from_model and weights_from_norm_model look so different?**"
   ]
  },
  {
   "cell_type": "markdown",
   "metadata": {
    "deletable": false,
    "nbgrader": {
     "cell_type": "markdown",
     "checksum": "52e82163ac0a8d8b47bc613199650fe2",
     "grade": true,
     "grade_id": "cell-598a597c991950f8",
     "locked": false,
     "points": 0,
     "schema_version": 3,
     "solution": true,
     "task": false
    }
   },
   "source": [
    "Because the normalized dataset is smaller, the coefficients are closer together, supplying reliability the first model could not."
   ]
  },
  {
   "cell_type": "markdown",
   "metadata": {},
   "source": [
    "----\n",
    "\n",
    "# Additional Experiments\n",
    "\n",
    "The previous experiment demonstrated the importance of normalizing our data in order to maximize model accuracy. In the next few experiments, we are going to explore the effect that certain values for Batch Size, Learning Rate, and different Optimizers have on model accuracy. \n",
    "\n",
    "Using our **create_model** model building function, conduct the following experiments. "
   ]
  },
  {
   "cell_type": "markdown",
   "metadata": {
    "colab_type": "text",
    "id": "f0pCkh8C7eGL"
   },
   "source": [
    "### Experiment with Batch Size\n",
    "* Run 5 experiments with various batch sizes of your choice. \n",
    "* Visualize the results\n",
    "* Write up an analysis of the experiments and select the \"best\" performing model among your experiments. Make sure to compare against your model's performance yesterday. "
   ]
  },
  {
   "cell_type": "code",
   "execution_count": 22,
   "metadata": {
    "colab": {},
    "colab_type": "code",
    "id": "USXjs7Hk71Hy"
   },
   "outputs": [
    {
     "name": "stdout",
     "output_type": "stream",
     "text": [
      "Epoch 1/10\n",
      "3410/3410 [==============================] - 26s 7ms/step - loss: 0.8871 - accuracy: 0.7222 - val_loss: 0.5657 - val_accuracy: 0.8286\n",
      "Epoch 2/10\n",
      "3410/3410 [==============================] - 22s 6ms/step - loss: 0.5194 - accuracy: 0.8412 - val_loss: 0.5000 - val_accuracy: 0.8470\n",
      "Epoch 3/10\n",
      "3410/3410 [==============================] - 23s 7ms/step - loss: 0.4475 - accuracy: 0.8622 - val_loss: 0.4685 - val_accuracy: 0.8580\n",
      "Epoch 4/10\n",
      "3410/3410 [==============================] - 24s 7ms/step - loss: 0.4031 - accuracy: 0.8754 - val_loss: 0.4539 - val_accuracy: 0.8629\n",
      "Epoch 5/10\n",
      "3410/3410 [==============================] - 23s 7ms/step - loss: 0.3758 - accuracy: 0.8840 - val_loss: 0.4421 - val_accuracy: 0.8663\n",
      "Epoch 6/10\n",
      "3410/3410 [==============================] - 24s 7ms/step - loss: 0.3503 - accuracy: 0.8924 - val_loss: 0.4496 - val_accuracy: 0.8635\n",
      "Epoch 7/10\n",
      "3410/3410 [==============================] - 24s 7ms/step - loss: 0.3316 - accuracy: 0.8960 - val_loss: 0.4404 - val_accuracy: 0.8688\n",
      "Epoch 8/10\n",
      "3410/3410 [==============================] - 27s 8ms/step - loss: 0.3088 - accuracy: 0.9040 - val_loss: 0.4681 - val_accuracy: 0.8638\n",
      "Epoch 9/10\n",
      "3410/3410 [==============================] - 28s 8ms/step - loss: 0.2855 - accuracy: 0.9113 - val_loss: 0.4492 - val_accuracy: 0.8685\n",
      "Epoch 10/10\n",
      "3410/3410 [==============================] - 24s 7ms/step - loss: 0.2692 - accuracy: 0.9168 - val_loss: 0.4690 - val_accuracy: 0.8680\n"
     ]
    }
   ],
   "source": [
    "now = datetime.datetime.now().strftime(\"%Y%m%d-%H%M%S\")\n",
    "logdir = os.path.join(\"logs\", f\"Normalization-{now}\")\n",
    "tensorboard = TensorBoard(log_dir=logdir,  histogram_freq=1)\n",
    "\n",
    "exp1 = create_model(lr=.001, opt=\"adam\")\n",
    "\n",
    "x_mod1 = exp1.fit(X_train_scaled, y_train, \n",
    "                  validation_data=(X_test_scaled, y_test),\n",
    "                  workers=-2, \n",
    "                  epochs=10, \n",
    "                  batch_size=22, \n",
    "                  verbose=1, \n",
    "                  callbacks=[tensorboard])"
   ]
  },
  {
   "cell_type": "code",
   "execution_count": 23,
   "metadata": {},
   "outputs": [
    {
     "name": "stdout",
     "output_type": "stream",
     "text": [
      "Model: \"sequential_3\"\n",
      "_________________________________________________________________\n",
      "Layer (type)                 Output Shape              Param #   \n",
      "=================================================================\n",
      "dense_9 (Dense)              (None, 64)                50240     \n",
      "_________________________________________________________________\n",
      "dense_10 (Dense)             (None, 250)               16250     \n",
      "_________________________________________________________________\n",
      "dense_11 (Dense)             (None, 10)                2510      \n",
      "=================================================================\n",
      "Total params: 69,000\n",
      "Trainable params: 69,000\n",
      "Non-trainable params: 0\n",
      "_________________________________________________________________\n"
     ]
    }
   ],
   "source": [
    "exp1.summary()"
   ]
  },
  {
   "cell_type": "code",
   "execution_count": 24,
   "metadata": {},
   "outputs": [
    {
     "name": "stdout",
     "output_type": "stream",
     "text": [
      "Epoch 1/10\n",
      "2885/2885 [==============================] - 22s 7ms/step - loss: 0.9080 - accuracy: 0.7190 - val_loss: 0.5620 - val_accuracy: 0.8304\n",
      "Epoch 2/10\n",
      "2885/2885 [==============================] - 19s 7ms/step - loss: 0.5304 - accuracy: 0.8375 - val_loss: 0.5064 - val_accuracy: 0.8458\n",
      "Epoch 3/10\n",
      "2885/2885 [==============================] - 20s 7ms/step - loss: 0.4621 - accuracy: 0.8582 - val_loss: 0.4710 - val_accuracy: 0.8576\n",
      "Epoch 4/10\n",
      "2885/2885 [==============================] - 20s 7ms/step - loss: 0.4127 - accuracy: 0.8743 - val_loss: 0.4651 - val_accuracy: 0.8566\n",
      "Epoch 5/10\n",
      "2885/2885 [==============================] - 20s 7ms/step - loss: 0.3769 - accuracy: 0.8843 - val_loss: 0.4554 - val_accuracy: 0.8626\n",
      "Epoch 6/10\n",
      "2885/2885 [==============================] - 21s 7ms/step - loss: 0.3522 - accuracy: 0.8927 - val_loss: 0.4478 - val_accuracy: 0.8674\n",
      "Epoch 7/10\n",
      "2885/2885 [==============================] - 21s 7ms/step - loss: 0.3232 - accuracy: 0.9004 - val_loss: 0.4437 - val_accuracy: 0.8688\n",
      "Epoch 8/10\n",
      "2885/2885 [==============================] - 20s 7ms/step - loss: 0.3151 - accuracy: 0.9037 - val_loss: 0.4627 - val_accuracy: 0.8649\n",
      "Epoch 9/10\n",
      "2885/2885 [==============================] - 20s 7ms/step - loss: 0.2902 - accuracy: 0.9106 - val_loss: 0.4502 - val_accuracy: 0.8684\n",
      "Epoch 10/10\n",
      "2885/2885 [==============================] - 21s 7ms/step - loss: 0.2748 - accuracy: 0.9159 - val_loss: 0.4514 - val_accuracy: 0.8714\n"
     ]
    }
   ],
   "source": [
    "exp2 = create_model(lr=.001, opt=\"adam\")\n",
    "\n",
    "x_mod2 = exp2.fit(X_train_scaled, y_train, \n",
    "                  validation_data=(X_test_scaled, y_test),\n",
    "                  workers=-2, \n",
    "                  epochs=10, \n",
    "                  batch_size=26, \n",
    "                  verbose=1, \n",
    "                  callbacks=[tensorboard])"
   ]
  },
  {
   "cell_type": "code",
   "execution_count": 25,
   "metadata": {},
   "outputs": [
    {
     "name": "stdout",
     "output_type": "stream",
     "text": [
      "Model: \"sequential_4\"\n",
      "_________________________________________________________________\n",
      "Layer (type)                 Output Shape              Param #   \n",
      "=================================================================\n",
      "dense_12 (Dense)             (None, 64)                50240     \n",
      "_________________________________________________________________\n",
      "dense_13 (Dense)             (None, 250)               16250     \n",
      "_________________________________________________________________\n",
      "dense_14 (Dense)             (None, 10)                2510      \n",
      "=================================================================\n",
      "Total params: 69,000\n",
      "Trainable params: 69,000\n",
      "Non-trainable params: 0\n",
      "_________________________________________________________________\n"
     ]
    }
   ],
   "source": [
    "exp2.summary()"
   ]
  },
  {
   "cell_type": "code",
   "execution_count": 26,
   "metadata": {},
   "outputs": [
    {
     "name": "stdout",
     "output_type": "stream",
     "text": [
      "Epoch 1/10\n",
      "1974/1974 [==============================] - 18s 9ms/step - loss: 0.9685 - accuracy: 0.7001 - val_loss: 0.5924 - val_accuracy: 0.8208\n",
      "Epoch 2/10\n",
      "1974/1974 [==============================] - 14s 7ms/step - loss: 0.5506 - accuracy: 0.8350 - val_loss: 0.5310 - val_accuracy: 0.8394\n",
      "Epoch 3/10\n",
      "1974/1974 [==============================] - 16s 8ms/step - loss: 0.4694 - accuracy: 0.8565 - val_loss: 0.4906 - val_accuracy: 0.8525\n",
      "Epoch 4/10\n",
      "1974/1974 [==============================] - 15s 8ms/step - loss: 0.4281 - accuracy: 0.8707 - val_loss: 0.4632 - val_accuracy: 0.8621\n",
      "Epoch 5/10\n",
      "1974/1974 [==============================] - 15s 8ms/step - loss: 0.3927 - accuracy: 0.8794 - val_loss: 0.4459 - val_accuracy: 0.8658\n",
      "Epoch 6/10\n",
      "1974/1974 [==============================] - 15s 8ms/step - loss: 0.3664 - accuracy: 0.8880 - val_loss: 0.4535 - val_accuracy: 0.8629\n",
      "Epoch 7/10\n",
      "1974/1974 [==============================] - 15s 8ms/step - loss: 0.3491 - accuracy: 0.8932 - val_loss: 0.4482 - val_accuracy: 0.8642\n",
      "Epoch 8/10\n",
      "1974/1974 [==============================] - 14s 7ms/step - loss: 0.3294 - accuracy: 0.8998 - val_loss: 0.4478 - val_accuracy: 0.8682\n",
      "Epoch 9/10\n",
      "1974/1974 [==============================] - 14s 7ms/step - loss: 0.3132 - accuracy: 0.9048 - val_loss: 0.4404 - val_accuracy: 0.8691\n",
      "Epoch 10/10\n",
      "1974/1974 [==============================] - 14s 7ms/step - loss: 0.2947 - accuracy: 0.9089 - val_loss: 0.4617 - val_accuracy: 0.8676\n"
     ]
    }
   ],
   "source": [
    "exp3 = create_model(lr=.001, opt=\"adam\")\n",
    "\n",
    "x_mod3 = exp3.fit(X_train_scaled, y_train, \n",
    "                  validation_data=(X_test_scaled, y_test),\n",
    "                  workers=-2, \n",
    "                  epochs=10, \n",
    "                  batch_size=38, \n",
    "                  verbose=1, \n",
    "                  callbacks=[tensorboard])"
   ]
  },
  {
   "cell_type": "code",
   "execution_count": 27,
   "metadata": {},
   "outputs": [
    {
     "name": "stdout",
     "output_type": "stream",
     "text": [
      "Model: \"sequential_5\"\n",
      "_________________________________________________________________\n",
      "Layer (type)                 Output Shape              Param #   \n",
      "=================================================================\n",
      "dense_15 (Dense)             (None, 64)                50240     \n",
      "_________________________________________________________________\n",
      "dense_16 (Dense)             (None, 250)               16250     \n",
      "_________________________________________________________________\n",
      "dense_17 (Dense)             (None, 10)                2510      \n",
      "=================================================================\n",
      "Total params: 69,000\n",
      "Trainable params: 69,000\n",
      "Non-trainable params: 0\n",
      "_________________________________________________________________\n"
     ]
    }
   ],
   "source": [
    "exp3.summary()"
   ]
  },
  {
   "cell_type": "code",
   "execution_count": 28,
   "metadata": {},
   "outputs": [
    {
     "name": "stdout",
     "output_type": "stream",
     "text": [
      "Epoch 1/10\n",
      "1563/1563 [==============================] - 21s 12ms/step - loss: 0.9887 - accuracy: 0.6927 - val_loss: 0.6083 - val_accuracy: 0.8204\n",
      "Epoch 2/10\n",
      "1563/1563 [==============================] - 13s 8ms/step - loss: 0.5708 - accuracy: 0.8282 - val_loss: 0.5406 - val_accuracy: 0.8374\n",
      "Epoch 3/10\n",
      "1563/1563 [==============================] - 12s 8ms/step - loss: 0.4819 - accuracy: 0.8539 - val_loss: 0.4882 - val_accuracy: 0.8504\n",
      "Epoch 4/10\n",
      "1563/1563 [==============================] - 12s 7ms/step - loss: 0.4429 - accuracy: 0.8661 - val_loss: 0.4639 - val_accuracy: 0.8608\n",
      "Epoch 5/10\n",
      "1563/1563 [==============================] - 12s 8ms/step - loss: 0.4115 - accuracy: 0.8747 - val_loss: 0.4607 - val_accuracy: 0.8612\n",
      "Epoch 6/10\n",
      "1563/1563 [==============================] - 13s 8ms/step - loss: 0.3803 - accuracy: 0.8826 - val_loss: 0.4451 - val_accuracy: 0.8670\n",
      "Epoch 7/10\n",
      "1563/1563 [==============================] - 13s 8ms/step - loss: 0.3609 - accuracy: 0.8900 - val_loss: 0.4412 - val_accuracy: 0.8678\n",
      "Epoch 8/10\n",
      "1563/1563 [==============================] - 13s 8ms/step - loss: 0.3421 - accuracy: 0.8954 - val_loss: 0.4430 - val_accuracy: 0.8680\n",
      "Epoch 9/10\n",
      "1563/1563 [==============================] - 12s 8ms/step - loss: 0.3201 - accuracy: 0.9022 - val_loss: 0.4577 - val_accuracy: 0.8630\n",
      "Epoch 10/10\n",
      "1563/1563 [==============================] - 12s 8ms/step - loss: 0.3105 - accuracy: 0.9033 - val_loss: 0.4471 - val_accuracy: 0.8693\n"
     ]
    }
   ],
   "source": [
    "exp4 = create_model(lr=.001, opt=\"adam\")\n",
    "\n",
    "x_mod4 = exp4.fit(X_train_scaled, y_train, \n",
    "                  validation_data=(X_test_scaled, y_test),\n",
    "                  workers=-2, \n",
    "                  epochs=10, \n",
    "                  batch_size=48, \n",
    "                  verbose=1, \n",
    "                  callbacks=[tensorboard])"
   ]
  },
  {
   "cell_type": "code",
   "execution_count": 29,
   "metadata": {},
   "outputs": [
    {
     "name": "stdout",
     "output_type": "stream",
     "text": [
      "Model: \"sequential_6\"\n",
      "_________________________________________________________________\n",
      "Layer (type)                 Output Shape              Param #   \n",
      "=================================================================\n",
      "dense_18 (Dense)             (None, 64)                50240     \n",
      "_________________________________________________________________\n",
      "dense_19 (Dense)             (None, 250)               16250     \n",
      "_________________________________________________________________\n",
      "dense_20 (Dense)             (None, 10)                2510      \n",
      "=================================================================\n",
      "Total params: 69,000\n",
      "Trainable params: 69,000\n",
      "Non-trainable params: 0\n",
      "_________________________________________________________________\n"
     ]
    }
   ],
   "source": [
    "exp4.summary()"
   ]
  },
  {
   "cell_type": "code",
   "execution_count": 30,
   "metadata": {},
   "outputs": [
    {
     "name": "stdout",
     "output_type": "stream",
     "text": [
      "Epoch 1/10\n",
      "2500/2500 [==============================] - 19s 7ms/step - loss: 0.9356 - accuracy: 0.7070 - val_loss: 0.5705 - val_accuracy: 0.8251\n",
      "Epoch 2/10\n",
      "2500/2500 [==============================] - 17s 7ms/step - loss: 0.5489 - accuracy: 0.8317 - val_loss: 0.5039 - val_accuracy: 0.8480\n",
      "Epoch 3/10\n",
      "2500/2500 [==============================] - 17s 7ms/step - loss: 0.4678 - accuracy: 0.8567 - val_loss: 0.4808 - val_accuracy: 0.8555\n",
      "Epoch 4/10\n",
      "2500/2500 [==============================] - 17s 7ms/step - loss: 0.4280 - accuracy: 0.8673 - val_loss: 0.4592 - val_accuracy: 0.8626\n",
      "Epoch 5/10\n",
      "2500/2500 [==============================] - 18s 7ms/step - loss: 0.3951 - accuracy: 0.8777 - val_loss: 0.4561 - val_accuracy: 0.8631\n",
      "Epoch 6/10\n",
      "2500/2500 [==============================] - 17s 7ms/step - loss: 0.3583 - accuracy: 0.8905 - val_loss: 0.4543 - val_accuracy: 0.8638\n",
      "Epoch 7/10\n",
      "2500/2500 [==============================] - 17s 7ms/step - loss: 0.3395 - accuracy: 0.8953 - val_loss: 0.4535 - val_accuracy: 0.8663\n",
      "Epoch 8/10\n",
      "2500/2500 [==============================] - 16s 7ms/step - loss: 0.3213 - accuracy: 0.9011 - val_loss: 0.4501 - val_accuracy: 0.8676\n",
      "Epoch 9/10\n",
      "2500/2500 [==============================] - 17s 7ms/step - loss: 0.3054 - accuracy: 0.9047 - val_loss: 0.4451 - val_accuracy: 0.8682\n",
      "Epoch 10/10\n",
      "2500/2500 [==============================] - 17s 7ms/step - loss: 0.2889 - accuracy: 0.9118 - val_loss: 0.4518 - val_accuracy: 0.8709\n"
     ]
    }
   ],
   "source": [
    "exp5 = create_model(lr=.001, opt=\"adam\")\n",
    "\n",
    "x_mod5 = exp5.fit(X_train_scaled, y_train, \n",
    "                  validation_data=(X_test_scaled, y_test),\n",
    "                  workers=-2, \n",
    "                  epochs=10, \n",
    "                  batch_size=30, \n",
    "                  verbose=1, \n",
    "                  callbacks=[tensorboard])"
   ]
  },
  {
   "cell_type": "code",
   "execution_count": 31,
   "metadata": {},
   "outputs": [
    {
     "name": "stdout",
     "output_type": "stream",
     "text": [
      "Model: \"sequential_7\"\n",
      "_________________________________________________________________\n",
      "Layer (type)                 Output Shape              Param #   \n",
      "=================================================================\n",
      "dense_21 (Dense)             (None, 64)                50240     \n",
      "_________________________________________________________________\n",
      "dense_22 (Dense)             (None, 250)               16250     \n",
      "_________________________________________________________________\n",
      "dense_23 (Dense)             (None, 10)                2510      \n",
      "=================================================================\n",
      "Total params: 69,000\n",
      "Trainable params: 69,000\n",
      "Non-trainable params: 0\n",
      "_________________________________________________________________\n"
     ]
    }
   ],
   "source": [
    "exp5.summary()"
   ]
  },
  {
   "cell_type": "code",
   "execution_count": 32,
   "metadata": {},
   "outputs": [
    {
     "data": {
      "image/png": "[encoded data removed]",
      "text/plain": [
       "<Figure size 1440x432 with 1 Axes>"
      ]
     },
     "metadata": {
      "needs_background": "light"
     },
     "output_type": "display_data"
    }
   ],
   "source": [
    "plt.figure(figsize=(20,6))\n",
    "plt.title(\"Learned Weights in Hidden Layers\")\n",
    "plt.xlabel(\"Weight Values\")\n",
    "plt.grid()\n",
    "\n",
    "layer3 = exp1.get_layer(name=\"dense_10\")\n",
    "bias1, weights1 = layer3.get_weights()\n",
    "layer4 = exp2.get_layer(name=\"dense_13\")\n",
    "bias2, weights2 = layer4.get_weights()\n",
    "layer5 = exp3.get_layer(name=\"dense_16\")\n",
    "bias3, weights3 = layer5.get_weights()\n",
    "layer6 = exp4.get_layer(name=\"dense_19\")\n",
    "bias4, weights4 = layer6.get_weights()\n",
    "layer5 = exp5.get_layer(name=\"dense_22\")\n",
    "bias5, weights5 = layer5.get_weights()\n",
    "\n",
    "\n",
    "# plt.hist(weights1, bins=20, alpha=0.5, label=\"weights from x_mod1\", density=True);\n",
    "plt.hist(weights2, bins=20, alpha=0.5, label=\"weights from x_mod2\", density=True);\n",
    "plt.hist(weights3, bins=20, alpha=0.5, label=\"weights from x_mod3\", density=True);\n",
    "plt.hist(weights4, bins=20, alpha=0.5, label=\"weights from x_mod4\", density=True);\n",
    "# plt.hist(weights5, bins=20, alpha=0.5, label=\"weights from x_mod5\", density=True);\n",
    "plt.legend(fontsize=\"x-large\");"
   ]
  },
  {
   "cell_type": "code",
   "execution_count": 33,
   "metadata": {},
   "outputs": [
    {
     "data": {
      "image/png": "[encoded data removed]",
      "text/plain": [
       "<Figure size 1440x432 with 1 Axes>"
      ]
     },
     "metadata": {
      "needs_background": "light"
     },
     "output_type": "display_data"
    }
   ],
   "source": [
    "plt.figure(figsize=(20,6))\n",
    "plt.title(\"Learned Weights in Hidden Layers\")\n",
    "plt.xlabel(\"Weight Values\")\n",
    "plt.grid()\n",
    "\n",
    "plt.hist(weights_norm, bins=20, alpha=0.5, label=\"weights from norm_model\", density=True);\n",
    "plt.hist(weights2, bins=20, alpha=0.5, label=\"weights from x_mod2\", density=True);\n",
    "plt.legend(fontsize=\"x-large\");"
   ]
  },
  {
   "cell_type": "markdown",
   "metadata": {
    "colab_type": "text",
    "id": "8b-r70o8p2Dm"
   },
   "source": [
    "### Experiment with Learning Rate\n",
    "* Run 5 experiments with various learning rate magnitudes: 1, .1, .01, .001, .0001.\n",
    "* Use the \"best\" batch size from the previous experiment\n",
    "* Visualize the results\n",
    "* Write up an analysis of the experiments and select the \"best\" performing model among your experiments. Make sure to compare against the previous experiments and your model's performance yesterday. "
   ]
  },
  {
   "cell_type": "code",
   "execution_count": 34,
   "metadata": {
    "colab": {},
    "colab_type": "code",
    "id": "_SA144xx8Luf"
   },
   "outputs": [
    {
     "name": "stdout",
     "output_type": "stream",
     "text": [
      "Epoch 1/10\n",
      "2885/2885 [==============================] - 21s 7ms/step - loss: 0.9162 - accuracy: 0.7131 - val_loss: 0.5589 - val_accuracy: 0.8311\n",
      "Epoch 2/10\n",
      "2885/2885 [==============================] - 19s 6ms/step - loss: 0.5280 - accuracy: 0.8377 - val_loss: 0.5029 - val_accuracy: 0.8472\n",
      "Epoch 3/10\n",
      "2885/2885 [==============================] - 20s 7ms/step - loss: 0.4652 - accuracy: 0.8586 - val_loss: 0.4801 - val_accuracy: 0.8562\n",
      "Epoch 4/10\n",
      "2885/2885 [==============================] - 20s 7ms/step - loss: 0.4151 - accuracy: 0.8730 - val_loss: 0.4538 - val_accuracy: 0.8641\n",
      "Epoch 5/10\n",
      "2885/2885 [==============================] - 19s 7ms/step - loss: 0.3754 - accuracy: 0.8855 - val_loss: 0.4390 - val_accuracy: 0.8679\n",
      "Epoch 6/10\n",
      "2885/2885 [==============================] - 20s 7ms/step - loss: 0.3524 - accuracy: 0.8921 - val_loss: 0.4514 - val_accuracy: 0.8652\n",
      "Epoch 7/10\n",
      "2885/2885 [==============================] - 19s 6ms/step - loss: 0.3323 - accuracy: 0.8958 - val_loss: 0.4402 - val_accuracy: 0.8703\n",
      "Epoch 8/10\n",
      "2885/2885 [==============================] - 20s 7ms/step - loss: 0.3101 - accuracy: 0.9043 - val_loss: 0.4443 - val_accuracy: 0.8690\n",
      "Epoch 9/10\n",
      "2885/2885 [==============================] - 19s 7ms/step - loss: 0.2892 - accuracy: 0.9102 - val_loss: 0.4576 - val_accuracy: 0.8686\n",
      "Epoch 10/10\n",
      "2885/2885 [==============================] - 19s 7ms/step - loss: 0.2740 - accuracy: 0.9155 - val_loss: 0.4582 - val_accuracy: 0.8690\n"
     ]
    }
   ],
   "source": [
    "xlr1 = create_model(lr=.05, opt=\"adam\")\n",
    "\n",
    "check_lr1 = xlr1.fit(X_train_scaled, y_train, \n",
    "                  validation_data=(X_test_scaled, y_test),\n",
    "                  workers=-2, \n",
    "                  epochs=10, \n",
    "                  batch_size=26, \n",
    "                  verbose=1, \n",
    "                  callbacks=[tensorboard])"
   ]
  },
  {
   "cell_type": "code",
   "execution_count": 35,
   "metadata": {},
   "outputs": [
    {
     "name": "stdout",
     "output_type": "stream",
     "text": [
      "Epoch 1/10\n",
      "2885/2885 [==============================] - 23s 7ms/step - loss: 0.9079 - accuracy: 0.7155 - val_loss: 0.5731 - val_accuracy: 0.8259\n",
      "Epoch 2/10\n",
      "2885/2885 [==============================] - 20s 7ms/step - loss: 0.5270 - accuracy: 0.8399 - val_loss: 0.4926 - val_accuracy: 0.8510\n",
      "Epoch 3/10\n",
      "2885/2885 [==============================] - 20s 7ms/step - loss: 0.4591 - accuracy: 0.8589 - val_loss: 0.4638 - val_accuracy: 0.8598\n",
      "Epoch 4/10\n",
      "2885/2885 [==============================] - 19s 7ms/step - loss: 0.4060 - accuracy: 0.8759 - val_loss: 0.4643 - val_accuracy: 0.8596\n",
      "Epoch 5/10\n",
      "2885/2885 [==============================] - 20s 7ms/step - loss: 0.3775 - accuracy: 0.8828 - val_loss: 0.4452 - val_accuracy: 0.8674\n",
      "Epoch 6/10\n",
      "2885/2885 [==============================] - 19s 6ms/step - loss: 0.3602 - accuracy: 0.8898 - val_loss: 0.4379 - val_accuracy: 0.8709\n",
      "Epoch 7/10\n",
      "2885/2885 [==============================] - 19s 7ms/step - loss: 0.3385 - accuracy: 0.8950 - val_loss: 0.4445 - val_accuracy: 0.8660\n",
      "Epoch 8/10\n",
      "2885/2885 [==============================] - 18s 6ms/step - loss: 0.3144 - accuracy: 0.9026 - val_loss: 0.4411 - val_accuracy: 0.8698\n",
      "Epoch 9/10\n",
      "2885/2885 [==============================] - 19s 7ms/step - loss: 0.2892 - accuracy: 0.9120 - val_loss: 0.4456 - val_accuracy: 0.8698\n",
      "Epoch 10/10\n",
      "2885/2885 [==============================] - 19s 7ms/step - loss: 0.2708 - accuracy: 0.9152 - val_loss: 0.4668 - val_accuracy: 0.8655\n"
     ]
    }
   ],
   "source": [
    "xlr2 = create_model(lr=.085, opt=\"adam\")\n",
    "\n",
    "check_lr2 = xlr2.fit(X_train_scaled, y_train, \n",
    "                  validation_data=(X_test_scaled, y_test),\n",
    "                  workers=-2, \n",
    "                  epochs=10, \n",
    "                  batch_size=26, \n",
    "                  verbose=1, \n",
    "                  callbacks=[tensorboard])"
   ]
  },
  {
   "cell_type": "code",
   "execution_count": 36,
   "metadata": {},
   "outputs": [
    {
     "name": "stdout",
     "output_type": "stream",
     "text": [
      "Epoch 1/10\n",
      "2885/2885 [==============================] - 22s 7ms/step - loss: 0.9273 - accuracy: 0.7072 - val_loss: 0.5651 - val_accuracy: 0.8299\n",
      "Epoch 2/10\n",
      "2885/2885 [==============================] - 19s 6ms/step - loss: 0.5279 - accuracy: 0.8396 - val_loss: 0.4900 - val_accuracy: 0.8530\n",
      "Epoch 3/10\n",
      "2885/2885 [==============================] - 19s 7ms/step - loss: 0.4514 - accuracy: 0.8619 - val_loss: 0.4779 - val_accuracy: 0.8557\n",
      "Epoch 4/10\n",
      "2885/2885 [==============================] - 19s 6ms/step - loss: 0.4082 - accuracy: 0.8757 - val_loss: 0.4503 - val_accuracy: 0.8660\n",
      "Epoch 5/10\n",
      "2885/2885 [==============================] - 20s 7ms/step - loss: 0.3747 - accuracy: 0.8854 - val_loss: 0.4454 - val_accuracy: 0.8690\n",
      "Epoch 6/10\n",
      "2885/2885 [==============================] - 19s 7ms/step - loss: 0.3548 - accuracy: 0.8908 - val_loss: 0.4501 - val_accuracy: 0.8668\n",
      "Epoch 7/10\n",
      "2885/2885 [==============================] - 19s 7ms/step - loss: 0.3248 - accuracy: 0.9002 - val_loss: 0.4457 - val_accuracy: 0.8700\n",
      "Epoch 8/10\n",
      "2885/2885 [==============================] - 20s 7ms/step - loss: 0.3045 - accuracy: 0.9055 - val_loss: 0.4521 - val_accuracy: 0.8706\n",
      "Epoch 9/10\n",
      "2885/2885 [==============================] - 19s 7ms/step - loss: 0.2875 - accuracy: 0.9104 - val_loss: 0.4458 - val_accuracy: 0.8724\n",
      "Epoch 10/10\n",
      "2885/2885 [==============================] - 19s 7ms/step - loss: 0.2754 - accuracy: 0.9137 - val_loss: 0.4638 - val_accuracy: 0.8706\n"
     ]
    }
   ],
   "source": [
    "xlr3 = create_model(lr=.03, opt=\"adam\")\n",
    "\n",
    "check_lr3 = xlr3.fit(X_train_scaled, y_train, \n",
    "                  validation_data=(X_test_scaled, y_test),\n",
    "                  workers=-2, \n",
    "                  epochs=10, \n",
    "                  batch_size=26, \n",
    "                  verbose=1, \n",
    "                  callbacks=[tensorboard])"
   ]
  },
  {
   "cell_type": "code",
   "execution_count": 37,
   "metadata": {},
   "outputs": [
    {
     "name": "stdout",
     "output_type": "stream",
     "text": [
      "Epoch 1/10\n",
      "2885/2885 [==============================] - 22s 7ms/step - loss: 0.9199 - accuracy: 0.7050 - val_loss: 0.5681 - val_accuracy: 0.8274\n",
      "Epoch 2/10\n",
      "2885/2885 [==============================] - 19s 7ms/step - loss: 0.5363 - accuracy: 0.8361 - val_loss: 0.5169 - val_accuracy: 0.8423\n",
      "Epoch 3/10\n",
      "2885/2885 [==============================] - 19s 6ms/step - loss: 0.4535 - accuracy: 0.8599 - val_loss: 0.4697 - val_accuracy: 0.8575\n",
      "Epoch 4/10\n",
      "2885/2885 [==============================] - 19s 7ms/step - loss: 0.4159 - accuracy: 0.8725 - val_loss: 0.4595 - val_accuracy: 0.8616\n",
      "Epoch 5/10\n",
      "2885/2885 [==============================] - 18s 6ms/step - loss: 0.3783 - accuracy: 0.8838 - val_loss: 0.4425 - val_accuracy: 0.8673\n",
      "Epoch 6/10\n",
      "2885/2885 [==============================] - 19s 6ms/step - loss: 0.3532 - accuracy: 0.8901 - val_loss: 0.4508 - val_accuracy: 0.8653\n",
      "Epoch 7/10\n",
      "2885/2885 [==============================] - 19s 7ms/step - loss: 0.3337 - accuracy: 0.8951 - val_loss: 0.4500 - val_accuracy: 0.8663\n",
      "Epoch 8/10\n",
      "2885/2885 [==============================] - 18s 6ms/step - loss: 0.3054 - accuracy: 0.9050 - val_loss: 0.4487 - val_accuracy: 0.8674\n",
      "Epoch 9/10\n",
      "2885/2885 [==============================] - 19s 6ms/step - loss: 0.2919 - accuracy: 0.9105 - val_loss: 0.4561 - val_accuracy: 0.8648\n",
      "Epoch 10/10\n",
      "2885/2885 [==============================] - 18s 6ms/step - loss: 0.2761 - accuracy: 0.9142 - val_loss: 0.4526 - val_accuracy: 0.8681\n"
     ]
    }
   ],
   "source": [
    "xlr4 = create_model(lr=.005, opt=\"adam\")\n",
    "\n",
    "check_lr4 = xlr4.fit(X_train_scaled, y_train, \n",
    "                  validation_data=(X_test_scaled, y_test),\n",
    "                  workers=-2, \n",
    "                  epochs=10, \n",
    "                  batch_size=26, \n",
    "                  verbose=1, \n",
    "                  callbacks=[tensorboard])"
   ]
  },
  {
   "cell_type": "code",
   "execution_count": 38,
   "metadata": {},
   "outputs": [
    {
     "name": "stdout",
     "output_type": "stream",
     "text": [
      "Epoch 1/10\n",
      "2885/2885 [==============================] - 21s 7ms/step - loss: 0.9237 - accuracy: 0.7113 - val_loss: 0.5759 - val_accuracy: 0.8241\n",
      "Epoch 2/10\n",
      "2885/2885 [==============================] - 19s 6ms/step - loss: 0.5442 - accuracy: 0.8331 - val_loss: 0.4980 - val_accuracy: 0.8485\n",
      "Epoch 3/10\n",
      "2885/2885 [==============================] - 19s 7ms/step - loss: 0.4599 - accuracy: 0.8578 - val_loss: 0.4849 - val_accuracy: 0.8524\n",
      "Epoch 4/10\n",
      "2885/2885 [==============================] - 19s 7ms/step - loss: 0.4148 - accuracy: 0.8730 - val_loss: 0.4526 - val_accuracy: 0.8622\n",
      "Epoch 5/10\n",
      "2885/2885 [==============================] - 20s 7ms/step - loss: 0.3809 - accuracy: 0.8829 - val_loss: 0.4368 - val_accuracy: 0.8690\n",
      "Epoch 6/10\n",
      "2885/2885 [==============================] - 19s 6ms/step - loss: 0.3570 - accuracy: 0.8906 - val_loss: 0.4591 - val_accuracy: 0.8659\n",
      "Epoch 7/10\n",
      "2885/2885 [==============================] - 20s 7ms/step - loss: 0.3356 - accuracy: 0.8981 - val_loss: 0.4438 - val_accuracy: 0.8658\n",
      "Epoch 8/10\n",
      "2885/2885 [==============================] - 19s 6ms/step - loss: 0.3170 - accuracy: 0.9026 - val_loss: 0.4383 - val_accuracy: 0.8696\n",
      "Epoch 9/10\n",
      "2885/2885 [==============================] - 19s 6ms/step - loss: 0.2976 - accuracy: 0.9088 - val_loss: 0.4375 - val_accuracy: 0.8722\n",
      "Epoch 10/10\n",
      "2885/2885 [==============================] - 19s 7ms/step - loss: 0.2777 - accuracy: 0.9146 - val_loss: 0.4527 - val_accuracy: 0.8710\n"
     ]
    }
   ],
   "source": [
    "xlr5 = create_model(lr=.0001, opt=\"adam\")\n",
    "\n",
    "check_lr5 = xlr5.fit(X_train_scaled, y_train, \n",
    "                  validation_data=(X_test_scaled, y_test),\n",
    "                  workers=-2, \n",
    "                  epochs=10, \n",
    "                  batch_size=26, \n",
    "                  verbose=1, \n",
    "                  callbacks=[tensorboard])"
   ]
  },
  {
   "cell_type": "markdown",
   "metadata": {
    "colab_type": "text",
    "id": "gxMtSRhV9Q7I"
   },
   "source": [
    "### Experiment with different Optimizers\n",
    "* Run 5 experiments with various optimizers available in TensorFlow. See list [here](https://www.tensorflow.org/api_docs/python/tf/keras/optimizers)\n",
    "* Visualize the results\n",
    "* Write up an analysis of the experiments and select the \"best\" performing model among your experiments. Make sure to compare against the previous experiments and your model's performance yesterday.\n",
    "* Repeat the experiment combining Learning Rate and different optimizers. Does the best performing model change? "
   ]
  },
  {
   "cell_type": "code",
   "execution_count": 39,
   "metadata": {
    "colab": {},
    "colab_type": "code",
    "id": "ujLuzdNA91ip"
   },
   "outputs": [
    {
     "name": "stdout",
     "output_type": "stream",
     "text": [
      "Epoch 1/10\n",
      "2885/2885 [==============================] - 24s 8ms/step - loss: 0.9103 - accuracy: 0.7152 - val_loss: 0.5841 - val_accuracy: 0.8248\n",
      "Epoch 2/10\n",
      "2885/2885 [==============================] - 22s 8ms/step - loss: 0.5408 - accuracy: 0.8335 - val_loss: 0.5122 - val_accuracy: 0.8461\n",
      "Epoch 3/10\n",
      "2885/2885 [==============================] - 19s 7ms/step - loss: 0.4819 - accuracy: 0.8543 - val_loss: 0.4988 - val_accuracy: 0.8540\n",
      "Epoch 4/10\n",
      "2885/2885 [==============================] - 18s 6ms/step - loss: 0.4471 - accuracy: 0.8662 - val_loss: 0.4923 - val_accuracy: 0.8580\n",
      "Epoch 5/10\n",
      "2885/2885 [==============================] - 18s 6ms/step - loss: 0.4227 - accuracy: 0.8731 - val_loss: 0.4996 - val_accuracy: 0.8577\n",
      "Epoch 6/10\n",
      "2885/2885 [==============================] - 18s 6ms/step - loss: 0.4070 - accuracy: 0.8769 - val_loss: 0.4987 - val_accuracy: 0.8610\n",
      "Epoch 7/10\n",
      "2885/2885 [==============================] - 18s 6ms/step - loss: 0.3862 - accuracy: 0.8858 - val_loss: 0.5143 - val_accuracy: 0.8608\n",
      "Epoch 8/10\n",
      "2885/2885 [==============================] - 18s 6ms/step - loss: 0.3748 - accuracy: 0.8878 - val_loss: 0.5318 - val_accuracy: 0.8574\n",
      "Epoch 9/10\n",
      "2885/2885 [==============================] - 18s 6ms/step - loss: 0.3622 - accuracy: 0.8927 - val_loss: 0.5453 - val_accuracy: 0.8531\n",
      "Epoch 10/10\n",
      "2885/2885 [==============================] - 18s 6ms/step - loss: 0.3578 - accuracy: 0.8932 - val_loss: 0.5254 - val_accuracy: 0.8596\n"
     ]
    }
   ],
   "source": [
    "def new_model(lr=.01, opt=\"adam\"):\n",
    "    \"\"\"\n",
    "    \n",
    "    Build and returns a complies Keras model.  \n",
    "    \n",
    "    Parameters\n",
    "    ----------\n",
    "    lr: float\n",
    "        Learing rate parameter used for Stocastic Gradient Descent \n",
    "        \n",
    "    opt: string\n",
    "        Name of optimizer to use\n",
    "        \n",
    "    Returns\n",
    "    -------\n",
    "    model: keras object \n",
    "        A complied keras model \n",
    "    \"\"\"\n",
    "    \n",
    "    model = Sequential([\n",
    "        Dense(64, activation=\"relu\"),\n",
    "        Dense(250, input_dim=784, activation=\"sigmoid\"),\n",
    "        Dense(10, activation=\"softmax\")\n",
    "    ])\n",
    "    \n",
    "    model.compile(\n",
    "        loss=\"sparse_categorical_crossentropy\",\n",
    "        metrics=[\"accuracy\"]\n",
    "    )\n",
    "    \n",
    "    return model\n",
    "\n",
    "x_opt1 = new_model(lr=.03, opt=\"adamax\")\n",
    "\n",
    "opti1 = x_opt1.fit(X_train_scaled, y_train, \n",
    "                  validation_data=(X_test_scaled, y_test),\n",
    "                  workers=-2, \n",
    "                  epochs=10, \n",
    "                  batch_size=26, \n",
    "                  verbose=1, \n",
    "                  callbacks=[tensorboard])"
   ]
  },
  {
   "cell_type": "markdown",
   "metadata": {
    "colab_type": "text",
    "id": "FwlRJSfBlCvy"
   },
   "source": [
    "------\n",
    "\n",
    "## Stretch Goals: \n",
    "\n",
    "- On the learning rate experiments, implement [EarlyStopping](https://keras.io/api/callbacks/early_stopping/)\n",
    "- Review the math of Gradient Descent. "
   ]
  },
  {
   "cell_type": "code",
   "execution_count": 40,
   "metadata": {},
   "outputs": [],
   "source": [
    "!rm -rf ./logs/"
   ]
  }
 ],
 "metadata": {
  "colab": {
   "collapsed_sections": [],
   "name": "LS_DS_432_Train_Assignment.ipynb",
   "provenance": []
  },
  "kernelspec": {
   "display_name": "U4-S2-NN (Python3)",
   "language": "python",
   "name": "u4-s2-nn"
  },
  "language_info": {
   "codemirror_mode": {
    "name": "ipython",
    "version": 3
   },
   "file_extension": ".py",
   "mimetype": "text/x-python",
   "name": "python",
   "nbconvert_exporter": "python",
   "pygments_lexer": "ipython3",
   "version": "3.7.10"
  },
  "nteract": {
   "version": "0.22.4"
  }
 },
 "nbformat": 4,
 "nbformat_minor": 4
}
